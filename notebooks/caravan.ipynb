{
 "cells": [
  {
   "cell_type": "markdown",
   "metadata": {},
   "source": [
    "# Caravan insurance policy challenge"
   ]
  },
  {
   "cell_type": "markdown",
   "metadata": {},
   "source": [
    "# Environment"
   ]
  },
  {
   "cell_type": "markdown",
   "metadata": {},
   "source": [
    "This project uses the libraries below;\n",
    "- library(reshape2) for a plot\n",
    "- library(ggplot2) for a plot\n",
    "- library(gridExtra) for a grid plot\n",
    "- library(\"MASS\") for a plot of a probability density function\n",
    "- library(\"tidyverse\") for converting a dataframe\n",
    "- library(\"DiscriMiner\") for a calculation of correlation ratio\n",
    "- library(leaps) for modeling\n",
    "- library(\"caret\") for cross-validation\n",
    "- library(glmnet) for modeling and cross-validation"
   ]
  },
  {
   "cell_type": "markdown",
   "metadata": {},
   "source": [
    "# Introduction of the prediction task"
   ]
  },
  {
   "cell_type": "markdown",
   "metadata": {},
   "source": [
    "This project addresses distinguishing a caravan insurance policyholder or not. In addition, models used for prediction are also required to provide useful informationto understand why customers purchased the caravan insurance policy."
   ]
  },
  {
   "cell_type": "code",
   "execution_count": 139,
   "metadata": {},
   "outputs": [],
   "source": [
    "options(warn=-1)"
   ]
  },
  {
   "cell_type": "markdown",
   "metadata": {},
   "source": [
    "# Data Exploration"
   ]
  },
  {
   "cell_type": "markdown",
   "metadata": {},
   "source": [
    "## Overview of data"
   ]
  },
  {
   "cell_type": "markdown",
   "metadata": {},
   "source": [
    "### Data structure\n",
    "Firstly, have a look at the data given. Read and show data."
   ]
  },
  {
   "cell_type": "code",
   "execution_count": 140,
   "metadata": {
    "scrolled": true
   },
   "outputs": [
    {
     "data": {
      "text/html": [
       "<table>\n",
       "<caption>A data.frame: 3 × 86</caption>\n",
       "<thead>\n",
       "\t<tr><th scope=col>MOSTYPE</th><th scope=col>MAANTHUI</th><th scope=col>MGEMOMV</th><th scope=col>MGEMLEEF</th><th scope=col>MOSHOOFD</th><th scope=col>MGODRK</th><th scope=col>MGODPR</th><th scope=col>MGODOV</th><th scope=col>MGODGE</th><th scope=col>MRELGE</th><th scope=col>⋯</th><th scope=col>APERSONG</th><th scope=col>AGEZONG</th><th scope=col>AWAOREG</th><th scope=col>ABRAND</th><th scope=col>AZEILPL</th><th scope=col>APLEZIER</th><th scope=col>AFIETS</th><th scope=col>AINBOED</th><th scope=col>ABYSTAND</th><th scope=col>CARAVAN</th></tr>\n",
       "\t<tr><th scope=col>&lt;int&gt;</th><th scope=col>&lt;int&gt;</th><th scope=col>&lt;int&gt;</th><th scope=col>&lt;int&gt;</th><th scope=col>&lt;int&gt;</th><th scope=col>&lt;int&gt;</th><th scope=col>&lt;int&gt;</th><th scope=col>&lt;int&gt;</th><th scope=col>&lt;int&gt;</th><th scope=col>&lt;int&gt;</th><th scope=col>⋯</th><th scope=col>&lt;int&gt;</th><th scope=col>&lt;int&gt;</th><th scope=col>&lt;int&gt;</th><th scope=col>&lt;int&gt;</th><th scope=col>&lt;int&gt;</th><th scope=col>&lt;int&gt;</th><th scope=col>&lt;int&gt;</th><th scope=col>&lt;int&gt;</th><th scope=col>&lt;int&gt;</th><th scope=col>&lt;int&gt;</th></tr>\n",
       "</thead>\n",
       "<tbody>\n",
       "\t<tr><td>37</td><td>1</td><td>2</td><td>2</td><td>8</td><td>1</td><td>4</td><td>1</td><td>4</td><td>6</td><td>⋯</td><td>0</td><td>0</td><td>0</td><td>1</td><td>0</td><td>0</td><td>0</td><td>0</td><td>0</td><td>0</td></tr>\n",
       "\t<tr><td>37</td><td>1</td><td>2</td><td>2</td><td>8</td><td>0</td><td>4</td><td>2</td><td>4</td><td>3</td><td>⋯</td><td>0</td><td>0</td><td>0</td><td>1</td><td>0</td><td>0</td><td>0</td><td>0</td><td>0</td><td>0</td></tr>\n",
       "\t<tr><td> 9</td><td>1</td><td>3</td><td>3</td><td>3</td><td>2</td><td>3</td><td>2</td><td>4</td><td>5</td><td>⋯</td><td>0</td><td>0</td><td>0</td><td>1</td><td>0</td><td>0</td><td>0</td><td>0</td><td>0</td><td>0</td></tr>\n",
       "</tbody>\n",
       "</table>\n"
      ],
      "text/latex": [
       "A data.frame: 3 × 86\n",
       "\\begin{tabular}{r|llllllllllllllllllllllllllllllllllllllllllllllllllllllllllllllllllllllllllllllllllllll}\n",
       " MOSTYPE & MAANTHUI & MGEMOMV & MGEMLEEF & MOSHOOFD & MGODRK & MGODPR & MGODOV & MGODGE & MRELGE & MRELSA & MRELOV & MFALLEEN & MFGEKIND & MFWEKIND & MOPLHOOG & MOPLMIDD & MOPLLAAG & MBERHOOG & MBERZELF & MBERBOER & MBERMIDD & MBERARBG & MBERARBO & MSKA & MSKB1 & MSKB2 & MSKC & MSKD & MHHUUR & MHKOOP & MAUT1 & MAUT2 & MAUT0 & MZFONDS & MZPART & MINKM30 & MINK3045 & MINK4575 & MINK7512 & MINK123M & MINKGEM & MKOOPKLA & PWAPART & PWABEDR & PWALAND & PPERSAUT & PBESAUT & PMOTSCO & PVRAAUT & PAANHANG & PTRACTOR & PWERKT & PBROM & PLEVEN & PPERSONG & PGEZONG & PWAOREG & PBRAND & PZEILPL & PPLEZIER & PFIETS & PINBOED & PBYSTAND & AWAPART & AWABEDR & AWALAND & APERSAUT & ABESAUT & AMOTSCO & AVRAAUT & AAANHANG & ATRACTOR & AWERKT & ABROM & ALEVEN & APERSONG & AGEZONG & AWAOREG & ABRAND & AZEILPL & APLEZIER & AFIETS & AINBOED & ABYSTAND & CARAVAN\\\\\n",
       " <int> & <int> & <int> & <int> & <int> & <int> & <int> & <int> & <int> & <int> & <int> & <int> & <int> & <int> & <int> & <int> & <int> & <int> & <int> & <int> & <int> & <int> & <int> & <int> & <int> & <int> & <int> & <int> & <int> & <int> & <int> & <int> & <int> & <int> & <int> & <int> & <int> & <int> & <int> & <int> & <int> & <int> & <int> & <int> & <int> & <int> & <int> & <int> & <int> & <int> & <int> & <int> & <int> & <int> & <int> & <int> & <int> & <int> & <int> & <int> & <int> & <int> & <int> & <int> & <int> & <int> & <int> & <int> & <int> & <int> & <int> & <int> & <int> & <int> & <int> & <int> & <int> & <int> & <int> & <int> & <int> & <int> & <int> & <int> & <int> & <int>\\\\\n",
       "\\hline\n",
       "\t 37 & 1 & 2 & 2 & 8 & 1 & 4 & 1 & 4 & 6 & 2 & 2 & 0 & 4 & 5 & 0 & 5 & 4 & 0 & 0 & 0 & 5 & 0 & 4 & 0 & 2 & 3 & 5 & 0 & 2 & 7 & 7 & 1 & 2 & 6 & 3 & 2 & 0 & 5 & 2 & 0 & 5 & 4 & 2 & 0 & 0 & 0 & 0 & 0 & 0 & 0 & 0 & 0 & 0 & 0 & 0 & 0 & 0 & 2 & 0 & 0 & 0 & 0 & 0 & 2 & 0 & 0 & 0 & 0 & 0 & 0 & 0 & 0 & 0 & 0 & 0 & 0 & 0 & 0 & 1 & 0 & 0 & 0 & 0 & 0 & 0\\\\\n",
       "\t 37 & 1 & 2 & 2 & 8 & 0 & 4 & 2 & 4 & 3 & 2 & 4 & 4 & 4 & 2 & 0 & 5 & 4 & 0 & 0 & 0 & 7 & 0 & 2 & 0 & 5 & 0 & 4 & 0 & 7 & 2 & 7 & 0 & 2 & 9 & 0 & 4 & 5 & 0 & 0 & 0 & 3 & 4 & 2 & 0 & 0 & 6 & 0 & 0 & 0 & 0 & 0 & 0 & 0 & 0 & 0 & 0 & 0 & 2 & 0 & 0 & 0 & 0 & 0 & 1 & 0 & 0 & 1 & 0 & 0 & 0 & 0 & 0 & 0 & 0 & 0 & 0 & 0 & 0 & 1 & 0 & 0 & 0 & 0 & 0 & 0\\\\\n",
       "\t  9 & 1 & 3 & 3 & 3 & 2 & 3 & 2 & 4 & 5 & 2 & 2 & 2 & 3 & 4 & 3 & 4 & 2 & 4 & 0 & 0 & 3 & 1 & 2 & 3 & 2 & 1 & 4 & 0 & 5 & 4 & 9 & 0 & 0 & 7 & 2 & 1 & 5 & 3 & 0 & 0 & 4 & 4 & 0 & 0 & 0 & 6 & 0 & 0 & 0 & 0 & 0 & 0 & 0 & 0 & 0 & 0 & 0 & 2 & 0 & 0 & 0 & 0 & 0 & 0 & 0 & 0 & 1 & 0 & 0 & 0 & 0 & 0 & 0 & 0 & 0 & 0 & 0 & 0 & 1 & 0 & 0 & 0 & 0 & 0 & 0\\\\\n",
       "\\end{tabular}\n"
      ],
      "text/markdown": [
       "\n",
       "A data.frame: 3 × 86\n",
       "\n",
       "| MOSTYPE &lt;int&gt; | MAANTHUI &lt;int&gt; | MGEMOMV &lt;int&gt; | MGEMLEEF &lt;int&gt; | MOSHOOFD &lt;int&gt; | MGODRK &lt;int&gt; | MGODPR &lt;int&gt; | MGODOV &lt;int&gt; | MGODGE &lt;int&gt; | MRELGE &lt;int&gt; | ⋯ ⋯ | APERSONG &lt;int&gt; | AGEZONG &lt;int&gt; | AWAOREG &lt;int&gt; | ABRAND &lt;int&gt; | AZEILPL &lt;int&gt; | APLEZIER &lt;int&gt; | AFIETS &lt;int&gt; | AINBOED &lt;int&gt; | ABYSTAND &lt;int&gt; | CARAVAN &lt;int&gt; |\n",
       "|---|---|---|---|---|---|---|---|---|---|---|---|---|---|---|---|---|---|---|---|---|\n",
       "| 37 | 1 | 2 | 2 | 8 | 1 | 4 | 1 | 4 | 6 | ⋯ | 0 | 0 | 0 | 1 | 0 | 0 | 0 | 0 | 0 | 0 |\n",
       "| 37 | 1 | 2 | 2 | 8 | 0 | 4 | 2 | 4 | 3 | ⋯ | 0 | 0 | 0 | 1 | 0 | 0 | 0 | 0 | 0 | 0 |\n",
       "|  9 | 1 | 3 | 3 | 3 | 2 | 3 | 2 | 4 | 5 | ⋯ | 0 | 0 | 0 | 1 | 0 | 0 | 0 | 0 | 0 | 0 |\n",
       "\n"
      ],
      "text/plain": [
       "  MOSTYPE MAANTHUI MGEMOMV MGEMLEEF MOSHOOFD MGODRK MGODPR MGODOV MGODGE MRELGE\n",
       "1 37      1        2       2        8        1      4      1      4      6     \n",
       "2 37      1        2       2        8        0      4      2      4      3     \n",
       "3  9      1        3       3        3        2      3      2      4      5     \n",
       "  <U+22EF>        APERSONG AGEZONG AWAOREG ABRAND AZEILPL APLEZIER AFIETS AINBOED\n",
       "1 <U+22EF> 0        0       0       1      0       0        0      0      \n",
       "2 <U+22EF> 0        0       0       1      0       0        0      0      \n",
       "3 <U+22EF> 0        0       0       1      0       0        0      0      \n",
       "  ABYSTAND CARAVAN\n",
       "1 0        0      \n",
       "2 0        0      \n",
       "3 0        0      "
      ]
     },
     "metadata": {},
     "output_type": "display_data"
    }
   ],
   "source": [
    "df = read.delim(sep = \"\\t\", file = \"./data//ticdata2000.txt\")\n",
    "cols.initial=c('MOSTYPE','MAANTHUI','MGEMOMV','MGEMLEEF','MOSHOOFD','MGODRK','MGODPR','MGODOV','MGODGE','MRELGE','MRELSA','MRELOV','MFALLEEN','MFGEKIND','MFWEKIND','MOPLHOOG','MOPLMIDD','MOPLLAAG','MBERHOOG','MBERZELF','MBERBOER','MBERMIDD','MBERARBG','MBERARBO','MSKA','MSKB1','MSKB2','MSKC','MSKD','MHHUUR','MHKOOP','MAUT1','MAUT2','MAUT0','MZFONDS','MZPART','MINKM30','MINK3045','MINK4575','MINK7512','MINK123M','MINKGEM','MKOOPKLA','PWAPART','PWABEDR','PWALAND','PPERSAUT','PBESAUT','PMOTSCO','PVRAAUT','PAANHANG','PTRACTOR','PWERKT','PBROM','PLEVEN','PPERSONG','PGEZONG','PWAOREG','PBRAND','PZEILPL','PPLEZIER','PFIETS','PINBOED','PBYSTAND','AWAPART','AWABEDR','AWALAND','APERSAUT','ABESAUT','AMOTSCO','AVRAAUT','AAANHANG','ATRACTOR','AWERKT','ABROM','ALEVEN','APERSONG','AGEZONG','AWAOREG','ABRAND','AZEILPL','APLEZIER','AFIETS','AINBOED','ABYSTAND','CARAVAN')\n",
    "names(df)=cols.initial\n",
    "head(df, 3)"
   ]
  },
  {
   "cell_type": "markdown",
   "metadata": {},
   "source": [
    "Secondly, confirm the number of observations and variables, and data types. Possible models depend on the number of observations and features. Hence, it is important to check that information."
   ]
  },
  {
   "cell_type": "code",
   "execution_count": 141,
   "metadata": {
    "scrolled": true
   },
   "outputs": [
    {
     "name": "stdout",
     "output_type": "stream",
     "text": [
      "'data.frame':\t5821 obs. of  86 variables:\n",
      " $ MOSTYPE : int  37 37 9 40 23 39 33 33 11 10 ...\n",
      " $ MAANTHUI: int  1 1 1 1 1 2 1 1 2 1 ...\n",
      " $ MGEMOMV : int  2 2 3 4 2 3 2 2 3 4 ...\n",
      " $ MGEMLEEF: int  2 2 3 2 1 2 3 4 3 3 ...\n",
      " $ MOSHOOFD: int  8 8 3 10 5 9 8 8 3 3 ...\n",
      " $ MGODRK  : int  1 0 2 1 0 2 0 0 3 1 ...\n",
      " $ MGODPR  : int  4 4 3 4 5 2 7 1 5 4 ...\n",
      " $ MGODOV  : int  1 2 2 1 0 0 0 3 0 1 ...\n",
      " $ MGODGE  : int  4 4 4 4 5 5 2 6 2 4 ...\n",
      " $ MRELGE  : int  6 3 5 7 0 7 7 6 7 7 ...\n",
      " $ MRELSA  : int  2 2 2 1 6 2 2 0 0 1 ...\n",
      " $ MRELOV  : int  2 4 2 2 3 0 0 3 2 2 ...\n",
      " $ MFALLEEN: int  0 4 2 2 3 0 0 3 2 0 ...\n",
      " $ MFGEKIND: int  4 4 3 4 5 3 5 3 2 3 ...\n",
      " $ MFWEKIND: int  5 2 4 4 2 6 4 3 6 6 ...\n",
      " $ MOPLHOOG: int  0 0 3 5 0 0 0 0 0 4 ...\n",
      " $ MOPLMIDD: int  5 5 4 4 5 4 3 1 4 3 ...\n",
      " $ MOPLLAAG: int  4 4 2 0 4 5 6 8 5 3 ...\n",
      " $ MBERHOOG: int  0 0 4 0 2 0 2 1 2 0 ...\n",
      " $ MBERZELF: int  0 0 0 5 0 0 0 1 0 0 ...\n",
      " $ MBERBOER: int  0 0 0 4 0 0 0 0 0 0 ...\n",
      " $ MBERMIDD: int  5 7 3 0 4 4 2 1 3 9 ...\n",
      " $ MBERARBG: int  0 0 1 0 2 1 5 8 3 0 ...\n",
      " $ MBERARBO: int  4 2 2 0 2 5 2 1 3 0 ...\n",
      " $ MSKA    : int  0 0 3 9 2 0 2 1 1 3 ...\n",
      " $ MSKB1   : int  2 5 2 0 2 1 1 1 2 0 ...\n",
      " $ MSKB2   : int  3 0 1 0 2 4 2 0 1 6 ...\n",
      " $ MSKC    : int  5 4 4 0 4 5 5 8 4 0 ...\n",
      " $ MSKD    : int  0 0 0 0 2 0 2 1 2 0 ...\n",
      " $ MHHUUR  : int  2 7 5 4 9 6 0 9 0 0 ...\n",
      " $ MHKOOP  : int  7 2 4 5 0 3 9 0 9 9 ...\n",
      " $ MAUT1   : int  7 7 9 6 5 8 4 5 6 6 ...\n",
      " $ MAUT2   : int  1 0 0 2 3 0 4 2 1 2 ...\n",
      " $ MAUT0   : int  2 2 0 1 3 1 2 3 2 1 ...\n",
      " $ MZFONDS : int  6 9 7 5 9 9 6 7 6 5 ...\n",
      " $ MZPART  : int  3 0 2 4 0 0 3 2 3 4 ...\n",
      " $ MINKM30 : int  2 4 1 0 5 4 2 7 2 0 ...\n",
      " $ MINK3045: int  0 5 5 0 2 3 5 2 3 3 ...\n",
      " $ MINK4575: int  5 0 3 9 3 3 3 1 3 2 ...\n",
      " $ MINK7512: int  2 0 0 0 0 0 0 0 1 2 ...\n",
      " $ MINK123M: int  0 0 0 0 0 0 0 0 0 2 ...\n",
      " $ MINKGEM : int  5 3 4 6 3 3 3 2 4 8 ...\n",
      " $ MKOOPKLA: int  4 4 4 3 3 5 3 3 7 7 ...\n",
      " $ PWAPART : int  2 2 0 0 0 0 0 0 2 0 ...\n",
      " $ PWABEDR : int  0 0 0 0 0 0 0 0 0 0 ...\n",
      " $ PWALAND : int  0 0 0 0 0 0 0 0 0 0 ...\n",
      " $ PPERSAUT: int  0 6 6 0 6 6 0 5 0 6 ...\n",
      " $ PBESAUT : int  0 0 0 0 0 0 0 0 0 0 ...\n",
      " $ PMOTSCO : int  0 0 0 0 0 0 0 0 0 0 ...\n",
      " $ PVRAAUT : int  0 0 0 0 0 0 0 0 0 0 ...\n",
      " $ PAANHANG: int  0 0 0 0 0 0 0 0 0 0 ...\n",
      " $ PTRACTOR: int  0 0 0 0 0 0 0 0 0 0 ...\n",
      " $ PWERKT  : int  0 0 0 0 0 0 0 0 0 0 ...\n",
      " $ PBROM   : int  0 0 0 0 0 0 3 0 0 0 ...\n",
      " $ PLEVEN  : int  0 0 0 0 0 0 0 0 0 0 ...\n",
      " $ PPERSONG: int  0 0 0 0 0 0 0 0 0 0 ...\n",
      " $ PGEZONG : int  0 0 0 0 0 0 0 0 0 0 ...\n",
      " $ PWAOREG : int  0 0 0 0 0 0 0 0 0 0 ...\n",
      " $ PBRAND  : int  2 2 2 6 0 0 0 0 3 0 ...\n",
      " $ PZEILPL : int  0 0 0 0 0 0 0 0 0 0 ...\n",
      " $ PPLEZIER: int  0 0 0 0 0 0 0 0 0 0 ...\n",
      " $ PFIETS  : int  0 0 0 0 0 0 0 0 0 0 ...\n",
      " $ PINBOED : int  0 0 0 0 0 0 0 0 0 0 ...\n",
      " $ PBYSTAND: int  0 0 0 0 0 0 0 0 0 0 ...\n",
      " $ AWAPART : int  2 1 0 0 0 0 0 0 1 0 ...\n",
      " $ AWABEDR : int  0 0 0 0 0 0 0 0 0 0 ...\n",
      " $ AWALAND : int  0 0 0 0 0 0 0 0 0 0 ...\n",
      " $ APERSAUT: int  0 1 1 0 1 1 0 1 0 1 ...\n",
      " $ ABESAUT : int  0 0 0 0 0 0 0 0 0 0 ...\n",
      " $ AMOTSCO : int  0 0 0 0 0 0 0 0 0 0 ...\n",
      " $ AVRAAUT : int  0 0 0 0 0 0 0 0 0 0 ...\n",
      " $ AAANHANG: int  0 0 0 0 0 0 0 0 0 0 ...\n",
      " $ ATRACTOR: int  0 0 0 0 0 0 0 0 0 0 ...\n",
      " $ AWERKT  : int  0 0 0 0 0 0 0 0 0 0 ...\n",
      " $ ABROM   : int  0 0 0 0 0 0 1 0 0 0 ...\n",
      " $ ALEVEN  : int  0 0 0 0 0 0 0 0 0 0 ...\n",
      " $ APERSONG: int  0 0 0 0 0 0 0 0 0 0 ...\n",
      " $ AGEZONG : int  0 0 0 0 0 0 0 0 0 0 ...\n",
      " $ AWAOREG : int  0 0 0 0 0 0 0 0 0 0 ...\n",
      " $ ABRAND  : int  1 1 1 1 0 0 0 0 1 0 ...\n",
      " $ AZEILPL : int  0 0 0 0 0 0 0 0 0 0 ...\n",
      " $ APLEZIER: int  0 0 0 0 0 0 0 0 0 0 ...\n",
      " $ AFIETS  : int  0 0 0 0 0 0 0 0 0 0 ...\n",
      " $ AINBOED : int  0 0 0 0 0 0 0 0 0 0 ...\n",
      " $ ABYSTAND: int  0 0 0 0 0 0 0 0 0 0 ...\n",
      " $ CARAVAN : int  0 0 0 0 0 0 0 0 0 0 ...\n"
     ]
    }
   ],
   "source": [
    "str(df)"
   ]
  },
  {
   "cell_type": "markdown",
   "metadata": {},
   "source": [
    "There are **5821 observations** and **86 variables** including CARAVAN, which is the response variable. All of the features are integer data type.\n",
    "\n",
    "Next, have a look at the number of the caravan policyholders."
   ]
  },
  {
   "cell_type": "code",
   "execution_count": 142,
   "metadata": {
    "scrolled": true
   },
   "outputs": [
    {
     "data": {
      "text/html": [
       "348"
      ],
      "text/latex": [
       "348"
      ],
      "text/markdown": [
       "348"
      ],
      "text/plain": [
       "[1] 348"
      ]
     },
     "metadata": {},
     "output_type": "display_data"
    }
   ],
   "source": [
    "sum(df[,\"CARAVAN\"]==1)"
   ]
  },
  {
   "cell_type": "markdown",
   "metadata": {},
   "source": [
    "**348** out of 5821 observations are the caravan policyholders. \n",
    "\n",
    "It is figured out that the ratio of the policyholders is low, **approximately 6%**."
   ]
  },
  {
   "cell_type": "markdown",
   "metadata": {},
   "source": [
    "### Representative values"
   ]
  },
  {
   "cell_type": "markdown",
   "metadata": {},
   "source": [
    "To grasp the nature of variables, looking through the representative values among independent variables."
   ]
  },
  {
   "cell_type": "code",
   "execution_count": 143,
   "metadata": {},
   "outputs": [
    {
     "data": {
      "text/plain": [
       "    MOSTYPE         MAANTHUI         MGEMOMV         MGEMLEEF    \n",
       " Min.   : 1.00   Min.   : 1.000   Min.   :1.000   Min.   :1.000  \n",
       " 1st Qu.:10.00   1st Qu.: 1.000   1st Qu.:2.000   1st Qu.:2.000  \n",
       " Median :30.00   Median : 1.000   Median :3.000   Median :3.000  \n",
       " Mean   :24.25   Mean   : 1.111   Mean   :2.679   Mean   :2.991  \n",
       " 3rd Qu.:35.00   3rd Qu.: 1.000   3rd Qu.:3.000   3rd Qu.:3.000  \n",
       " Max.   :41.00   Max.   :10.000   Max.   :5.000   Max.   :6.000  \n",
       "    MOSHOOFD          MGODRK           MGODPR          MGODOV    \n",
       " Min.   : 1.000   Min.   :0.0000   Min.   :0.000   Min.   :0.00  \n",
       " 1st Qu.: 3.000   1st Qu.:0.0000   1st Qu.:4.000   1st Qu.:0.00  \n",
       " Median : 7.000   Median :0.0000   Median :5.000   Median :1.00  \n",
       " Mean   : 5.773   Mean   :0.6966   Mean   :4.627   Mean   :1.07  \n",
       " 3rd Qu.: 8.000   3rd Qu.:1.0000   3rd Qu.:6.000   3rd Qu.:2.00  \n",
       " Max.   :10.000   Max.   :9.0000   Max.   :9.000   Max.   :5.00  \n",
       "     MGODGE          MRELGE          MRELSA           MRELOV     \n",
       " Min.   :0.000   Min.   :0.000   Min.   :0.0000   Min.   :0.000  \n",
       " 1st Qu.:2.000   1st Qu.:5.000   1st Qu.:0.0000   1st Qu.:1.000  \n",
       " Median :3.000   Median :6.000   Median :1.0000   Median :2.000  \n",
       " Mean   :3.259   Mean   :6.183   Mean   :0.8837   Mean   :2.291  \n",
       " 3rd Qu.:4.000   3rd Qu.:7.000   3rd Qu.:1.0000   3rd Qu.:3.000  \n",
       " Max.   :9.000   Max.   :9.000   Max.   :7.0000   Max.   :9.000  \n",
       "    MFALLEEN        MFGEKIND        MFWEKIND      MOPLHOOG        MOPLMIDD    \n",
       " Min.   :0.000   Min.   :0.000   Min.   :0.0   Min.   :0.000   Min.   :0.000  \n",
       " 1st Qu.:0.000   1st Qu.:2.000   1st Qu.:3.0   1st Qu.:0.000   1st Qu.:2.000  \n",
       " Median :2.000   Median :3.000   Median :4.0   Median :1.000   Median :3.000  \n",
       " Mean   :1.888   Mean   :3.231   Mean   :4.3   Mean   :1.461   Mean   :3.351  \n",
       " 3rd Qu.:3.000   3rd Qu.:4.000   3rd Qu.:6.0   3rd Qu.:2.000   3rd Qu.:4.000  \n",
       " Max.   :9.000   Max.   :9.000   Max.   :9.0   Max.   :9.000   Max.   :9.000  \n",
       "    MOPLLAAG        MBERHOOG        MBERZELF        MBERBOER     \n",
       " Min.   :0.000   Min.   :0.000   Min.   :0.000   Min.   :0.0000  \n",
       " 1st Qu.:3.000   1st Qu.:0.000   1st Qu.:0.000   1st Qu.:0.0000  \n",
       " Median :5.000   Median :2.000   Median :0.000   Median :0.0000  \n",
       " Mean   :4.572   Mean   :1.895   Mean   :0.398   Mean   :0.5222  \n",
       " 3rd Qu.:6.000   3rd Qu.:3.000   3rd Qu.:1.000   3rd Qu.:1.0000  \n",
       " Max.   :9.000   Max.   :9.000   Max.   :5.000   Max.   :9.0000  \n",
       "    MBERMIDD        MBERARBG        MBERARBO          MSKA      \n",
       " Min.   :0.000   Min.   :0.000   Min.   :0.000   Min.   :0.000  \n",
       " 1st Qu.:2.000   1st Qu.:1.000   1st Qu.:1.000   1st Qu.:0.000  \n",
       " Median :3.000   Median :2.000   Median :2.000   Median :1.000  \n",
       " Mean   :2.899   Mean   :2.219   Mean   :2.306   Mean   :1.621  \n",
       " 3rd Qu.:4.000   3rd Qu.:3.000   3rd Qu.:3.000   3rd Qu.:2.000  \n",
       " Max.   :9.000   Max.   :9.000   Max.   :9.000   Max.   :9.000  \n",
       "     MSKB1           MSKB2            MSKC            MSKD      \n",
       " Min.   :0.000   Min.   :0.000   Min.   :0.000   Min.   :0.000  \n",
       " 1st Qu.:1.000   1st Qu.:1.000   1st Qu.:2.000   1st Qu.:0.000  \n",
       " Median :2.000   Median :2.000   Median :4.000   Median :1.000  \n",
       " Mean   :1.607   Mean   :2.203   Mean   :3.758   Mean   :1.067  \n",
       " 3rd Qu.:2.000   3rd Qu.:3.000   3rd Qu.:5.000   3rd Qu.:2.000  \n",
       " Max.   :9.000   Max.   :9.000   Max.   :9.000   Max.   :9.000  \n",
       "     MHHUUR          MHKOOP          MAUT1          MAUT2           MAUT0     \n",
       " Min.   :0.000   Min.   :0.000   Min.   :0.00   Min.   :0.000   Min.   :0.00  \n",
       " 1st Qu.:2.000   1st Qu.:2.000   1st Qu.:5.00   1st Qu.:0.000   1st Qu.:1.00  \n",
       " Median :4.000   Median :5.000   Median :6.00   Median :1.000   Median :2.00  \n",
       " Mean   :4.237   Mean   :4.771   Mean   :6.04   Mean   :1.317   Mean   :1.96  \n",
       " 3rd Qu.:7.000   3rd Qu.:7.000   3rd Qu.:7.00   3rd Qu.:2.000   3rd Qu.:3.00  \n",
       " Max.   :9.000   Max.   :9.000   Max.   :9.00   Max.   :7.000   Max.   :9.00  \n",
       "    MZFONDS          MZPART         MINKM30         MINK3045    \n",
       " Min.   :0.000   Min.   :0.000   Min.   :0.000   Min.   :0.000  \n",
       " 1st Qu.:5.000   1st Qu.:1.000   1st Qu.:1.000   1st Qu.:2.000  \n",
       " Median :7.000   Median :2.000   Median :2.000   Median :4.000  \n",
       " Mean   :6.277   Mean   :2.729   Mean   :2.574   Mean   :3.536  \n",
       " 3rd Qu.:8.000   3rd Qu.:4.000   3rd Qu.:4.000   3rd Qu.:5.000  \n",
       " Max.   :9.000   Max.   :9.000   Max.   :9.000   Max.   :9.000  \n",
       "    MINK4575        MINK7512         MINK123M         MINKGEM     \n",
       " Min.   :0.000   Min.   :0.0000   Min.   :0.0000   Min.   :0.000  \n",
       " 1st Qu.:1.000   1st Qu.:0.0000   1st Qu.:0.0000   1st Qu.:3.000  \n",
       " Median :3.000   Median :0.0000   Median :0.0000   Median :4.000  \n",
       " Mean   :2.731   Mean   :0.7963   Mean   :0.2027   Mean   :3.784  \n",
       " 3rd Qu.:4.000   3rd Qu.:1.0000   3rd Qu.:0.0000   3rd Qu.:4.000  \n",
       " Max.   :9.000   Max.   :9.0000   Max.   :9.0000   Max.   :9.000  \n",
       "    MKOOPKLA        PWAPART          PWABEDR           PWALAND       \n",
       " Min.   :1.000   Min.   :0.0000   Min.   :0.00000   Min.   :0.00000  \n",
       " 1st Qu.:3.000   1st Qu.:0.0000   1st Qu.:0.00000   1st Qu.:0.00000  \n",
       " Median :4.000   Median :0.0000   Median :0.00000   Median :0.00000  \n",
       " Mean   :4.237   Mean   :0.7713   Mean   :0.04003   Mean   :0.07164  \n",
       " 3rd Qu.:6.000   3rd Qu.:2.0000   3rd Qu.:0.00000   3rd Qu.:0.00000  \n",
       " Max.   :8.000   Max.   :3.0000   Max.   :6.00000   Max.   :4.00000  \n",
       "    PPERSAUT       PBESAUT           PMOTSCO          PVRAAUT        \n",
       " Min.   :0.00   Min.   :0.00000   Min.   :0.0000   Min.   :0.000000  \n",
       " 1st Qu.:0.00   1st Qu.:0.00000   1st Qu.:0.0000   1st Qu.:0.000000  \n",
       " Median :5.00   Median :0.00000   Median :0.0000   Median :0.000000  \n",
       " Mean   :2.97   Mean   :0.04827   Mean   :0.1754   Mean   :0.009449  \n",
       " 3rd Qu.:6.00   3rd Qu.:0.00000   3rd Qu.:0.0000   3rd Qu.:0.000000  \n",
       " Max.   :8.00   Max.   :7.00000   Max.   :7.0000   Max.   :9.000000  \n",
       "    PAANHANG          PTRACTOR          PWERKT            PBROM       \n",
       " Min.   :0.00000   Min.   :0.0000   Min.   :0.00000   Min.   :0.0000  \n",
       " 1st Qu.:0.00000   1st Qu.:0.0000   1st Qu.:0.00000   1st Qu.:0.0000  \n",
       " Median :0.00000   Median :0.0000   Median :0.00000   Median :0.0000  \n",
       " Mean   :0.02096   Mean   :0.0926   Mean   :0.01306   Mean   :0.2151  \n",
       " 3rd Qu.:0.00000   3rd Qu.:0.0000   3rd Qu.:0.00000   3rd Qu.:0.0000  \n",
       " Max.   :5.00000   Max.   :6.0000   Max.   :6.00000   Max.   :6.0000  \n",
       "     PLEVEN          PPERSONG          PGEZONG           PWAOREG       \n",
       " Min.   :0.0000   Min.   :0.00000   Min.   :0.00000   Min.   :0.00000  \n",
       " 1st Qu.:0.0000   1st Qu.:0.00000   1st Qu.:0.00000   1st Qu.:0.00000  \n",
       " Median :0.0000   Median :0.00000   Median :0.00000   Median :0.00000  \n",
       " Mean   :0.1948   Mean   :0.01374   Mean   :0.01529   Mean   :0.02354  \n",
       " 3rd Qu.:0.0000   3rd Qu.:0.00000   3rd Qu.:0.00000   3rd Qu.:0.00000  \n",
       " Max.   :9.0000   Max.   :6.00000   Max.   :3.00000   Max.   :7.00000  \n",
       "     PBRAND         PZEILPL            PPLEZIER          PFIETS       \n",
       " Min.   :0.000   Min.   :0.000000   Min.   :0.0000   Min.   :0.00000  \n",
       " 1st Qu.:0.000   1st Qu.:0.000000   1st Qu.:0.0000   1st Qu.:0.00000  \n",
       " Median :2.000   Median :0.000000   Median :0.0000   Median :0.00000  \n",
       " Mean   :1.827   Mean   :0.000859   Mean   :0.0189   Mean   :0.02525  \n",
       " 3rd Qu.:4.000   3rd Qu.:0.000000   3rd Qu.:0.0000   3rd Qu.:0.00000  \n",
       " Max.   :8.000   Max.   :3.000000   Max.   :6.0000   Max.   :1.00000  \n",
       "    PINBOED           PBYSTAND          AWAPART         AWABEDR       \n",
       " Min.   :0.00000   Min.   :0.00000   Min.   :0.000   Min.   :0.00000  \n",
       " 1st Qu.:0.00000   1st Qu.:0.00000   1st Qu.:0.000   1st Qu.:0.00000  \n",
       " Median :0.00000   Median :0.00000   Median :0.000   Median :0.00000  \n",
       " Mean   :0.01563   Mean   :0.04759   Mean   :0.403   Mean   :0.01477  \n",
       " 3rd Qu.:0.00000   3rd Qu.:0.00000   3rd Qu.:1.000   3rd Qu.:0.00000  \n",
       " Max.   :6.00000   Max.   :5.00000   Max.   :2.000   Max.   :5.00000  \n",
       "    AWALAND           APERSAUT         ABESAUT           AMOTSCO       \n",
       " Min.   :0.00000   Min.   :0.0000   Min.   :0.00000   Min.   :0.00000  \n",
       " 1st Qu.:0.00000   1st Qu.:0.0000   1st Qu.:0.00000   1st Qu.:0.00000  \n",
       " Median :0.00000   Median :1.0000   Median :0.00000   Median :0.00000  \n",
       " Mean   :0.02062   Mean   :0.5621   Mean   :0.01048   Mean   :0.04106  \n",
       " 3rd Qu.:0.00000   3rd Qu.:1.0000   3rd Qu.:0.00000   3rd Qu.:0.00000  \n",
       " Max.   :1.00000   Max.   :7.0000   Max.   :4.00000   Max.   :8.00000  \n",
       "    AVRAAUT            AAANHANG          ATRACTOR           AWERKT        \n",
       " Min.   :0.000000   Min.   :0.00000   Min.   :0.00000   Min.   :0.000000  \n",
       " 1st Qu.:0.000000   1st Qu.:0.00000   1st Qu.:0.00000   1st Qu.:0.000000  \n",
       " Median :0.000000   Median :0.00000   Median :0.00000   Median :0.000000  \n",
       " Mean   :0.002233   Mean   :0.01254   Mean   :0.03367   Mean   :0.006185  \n",
       " 3rd Qu.:0.000000   3rd Qu.:0.00000   3rd Qu.:0.00000   3rd Qu.:0.000000  \n",
       " Max.   :3.000000   Max.   :3.00000   Max.   :4.00000   Max.   :6.000000  \n",
       "     ABROM             ALEVEN           APERSONG           AGEZONG        \n",
       " Min.   :0.00000   Min.   :0.00000   Min.   :0.000000   Min.   :0.000000  \n",
       " 1st Qu.:0.00000   1st Qu.:0.00000   1st Qu.:0.000000   1st Qu.:0.000000  \n",
       " Median :0.00000   Median :0.00000   Median :0.000000   Median :0.000000  \n",
       " Mean   :0.07043   Mean   :0.07662   Mean   :0.005326   Mean   :0.006528  \n",
       " 3rd Qu.:0.00000   3rd Qu.:0.00000   3rd Qu.:0.000000   3rd Qu.:0.000000  \n",
       " Max.   :2.00000   Max.   :8.00000   Max.   :1.000000   Max.   :1.000000  \n",
       "    AWAOREG             ABRAND        AZEILPL             APLEZIER       \n",
       " Min.   :0.000000   Min.   :0.00   Min.   :0.0000000   Min.   :0.000000  \n",
       " 1st Qu.:0.000000   1st Qu.:0.00   1st Qu.:0.0000000   1st Qu.:0.000000  \n",
       " Median :0.000000   Median :1.00   Median :0.0000000   Median :0.000000  \n",
       " Mean   :0.004638   Mean   :0.57   Mean   :0.0005154   Mean   :0.006013  \n",
       " 3rd Qu.:0.000000   3rd Qu.:1.00   3rd Qu.:0.0000000   3rd Qu.:0.000000  \n",
       " Max.   :2.000000   Max.   :7.00   Max.   :1.0000000   Max.   :2.000000  \n",
       "     AFIETS           AINBOED            ABYSTAND          CARAVAN       \n",
       " Min.   :0.00000   Min.   :0.000000   Min.   :0.00000   Min.   :0.00000  \n",
       " 1st Qu.:0.00000   1st Qu.:0.000000   1st Qu.:0.00000   1st Qu.:0.00000  \n",
       " Median :0.00000   Median :0.000000   Median :0.00000   Median :0.00000  \n",
       " Mean   :0.03178   Mean   :0.007902   Mean   :0.01426   Mean   :0.05978  \n",
       " 3rd Qu.:0.00000   3rd Qu.:0.000000   3rd Qu.:0.00000   3rd Qu.:0.00000  \n",
       " Max.   :3.00000   Max.   :2.000000   Max.   :2.00000   Max.   :1.00000  "
      ]
     },
     "metadata": {},
     "output_type": "display_data"
    }
   ],
   "source": [
    "summary(df)"
   ]
  },
  {
   "cell_type": "markdown",
   "metadata": {},
   "source": [
    "Most of the variables beginning with the capital \"P\" and \"A\" show **zero medians**.\n",
    "\n",
    "Those variables are relating to **the number of contributions** and **the number of policies** according to the [data dictionary](http://kdd.ics.uci.edu/databases/tic/tic.html).\n",
    "\n",
    "It would indicate that they are **sparse variables** and their frequency are low."
   ]
  },
  {
   "cell_type": "markdown",
   "metadata": {},
   "source": [
    "### Categorizing the variable with the data dictionary given"
   ]
  },
  {
   "cell_type": "markdown",
   "metadata": {},
   "source": [
    "To deepen the understanding of features, categorise independent variables."
   ]
  },
  {
   "cell_type": "markdown",
   "metadata": {},
   "source": [
    "1. Categorical variables\n",
    "\n",
    "    According to the data dictionary, **only MOSTYPE and MOSHOOFD** are categorical variables.\n",
    "    \n",
    "    \n",
    "2. Ordinal variables\n",
    "\n",
    "    The features beginning **the capital M and P** are ordinal variables denoting the percentage and the amount of contribution respectively.\n",
    "\n",
    "\n",
    "3. Continuous variables\n",
    "\n",
    "    The features of **MAANTHUI, MGEMOMV, MGEMLEEF and ones beginning the capital A** are continuous variables.\n",
    "\n",
    "\n",
    "4. Corresponding variables\n",
    "\n",
    "    The features beginning **the capital P and A are corresponding together**. \n",
    "    \n",
    "    For example, PWAPART and AWAPART represent the contribution and the number of private third party insurance respectively. \n",
    "    \n",
    "    **It is assumed that those corresponding variables are highly correlated**."
   ]
  },
  {
   "cell_type": "markdown",
   "metadata": {},
   "source": [
    "### Uncover the nature of variables"
   ]
  },
  {
   "cell_type": "markdown",
   "metadata": {},
   "source": [
    "MOSTYPE and MOSHOOFD are categorical variables.\n",
    "\n",
    "To grasp the distribution of those variables, plot tables and histograms."
   ]
  },
  {
   "cell_type": "markdown",
   "metadata": {},
   "source": [
    "##### Plot the table and histogram\n",
    "\n",
    "The blue histogram represents the frequency of the caravan policyholders, whereas the non-caravan policyholders are denoted as the red one."
   ]
  },
  {
   "cell_type": "code",
   "execution_count": 144,
   "metadata": {},
   "outputs": [
    {
     "data": {
      "text/plain": [
       "\n",
       "  1   2   3   4   5   6   7   8   9  10  11  12  13  15  16  17  18  19  20  21 \n",
       "124  82 249  52  45 119  44 339 278 165 153 111 179   5  16   9  19   3  25  15 \n",
       " 22  23  24  25  26  27  28  29  30  31  32  33  34  35  36  37  38  39  40  41 \n",
       " 98 251 180  82  48  50  25  86 118 205 141 809 182 214 225 132 339 328  71 205 "
      ]
     },
     "metadata": {},
     "output_type": "display_data"
    },
    {
     "data": {
      "image/png": "[encoded data removed]",
      "text/plain": [
       "Plot with title \"Histogram of MOSTYPE\""
      ]
     },
     "metadata": {},
     "output_type": "display_data"
    }
   ],
   "source": [
    "options(repr.plot.height=4,repr.plot.width=6)\n",
    "hist(df[df[,\"CARAVAN\"]==0, \"MOSTYPE\"], breaks=seq(1,41), xlab=\"value\", main=\"Histogram of MOSTYPE\", col = \"#ff00ff40\", border = \"#ff00ff\")\n",
    "hist(df[df[,\"CARAVAN\"]==1, \"MOSTYPE\"], breaks=seq(1,41), col = \"#0000ff40\", border = \"#0000ff\", add=TRUE)\n",
    "table(df[,\"MOSTYPE\"])"
   ]
  },
  {
   "cell_type": "markdown",
   "metadata": {},
   "source": [
    "There is no bin in which the ratio of a caravan policyholder is high.\n",
    "\n",
    "One finding is that there is **no value of 14 in MOSTYPE**. It means that when generating dummy variables, the dummied feature of this value should not be produced."
   ]
  },
  {
   "cell_type": "code",
   "execution_count": 145,
   "metadata": {},
   "outputs": [
    {
     "data": {
      "text/plain": [
       "\n",
       "   1    2    3    4    5    6    7    8    9   10 \n",
       " 552  502  886   52  569  205  550 1562  667  276 "
      ]
     },
     "metadata": {},
     "output_type": "display_data"
    },
    {
     "data": {
      "image/png": "[encoded data removed]",
      "text/plain": [
       "Plot with title \"Histogram of MOSHOOFD\""
      ]
     },
     "metadata": {},
     "output_type": "display_data"
    }
   ],
   "source": [
    "options(repr.plot.height=3,repr.plot.width=4)\n",
    "hist(df[df[,\"CARAVAN\"]==0, \"MOSHOOFD\"], breaks=seq(1,10), xlab=\"value\", main=\"Histogram of MOSHOOFD\", col = \"#ff00ff40\", border = \"#ff00ff\")\n",
    "hist(df[df[,\"CARAVAN\"]==1, \"MOSHOOFD\"], breaks=seq(1,10), col = \"#0000ff40\", border = \"#0000ff\", add=TRUE)\n",
    "table(df[,\"MOSHOOFD\"])"
   ]
  },
  {
   "cell_type": "markdown",
   "metadata": {},
   "source": [
    "Similarly, there is no bin in which the ratio of a caravan policyholder is high.\n",
    "\n",
    "Differently, all categorical values in MOSHOOFD exit."
   ]
  },
  {
   "cell_type": "markdown",
   "metadata": {},
   "source": [
    "###  Correlation between the corresponding ordinal variables"
   ]
  },
  {
   "cell_type": "markdown",
   "metadata": {},
   "source": [
    "As previously mentioned, the features beginning the capital P and A are corresponding.\n",
    "\n",
    "Since correlations between independent variables affect some models, it is important to check it.\n",
    "\n",
    "To check the correlations of those variables, plot a heatmap."
   ]
  },
  {
   "cell_type": "code",
   "execution_count": 146,
   "metadata": {},
   "outputs": [],
   "source": [
    "# define variables starting with the capital P and A\n",
    "cols.cor.capp=c('PWAPART','PWABEDR','PWALAND','PPERSAUT','PBESAUT','PMOTSCO','PVRAAUT','PAANHANG','PTRACTOR','PWERKT','PBROM','PLEVEN','PPERSONG','PGEZONG','PWAOREG','PBRAND','PZEILPL','PPLEZIER','PFIETS','PINBOED','PBYSTAND')\n",
    "cols.cor.capa=c('AWAPART','AWABEDR','AWALAND','APERSAUT','ABESAUT','AMOTSCO','AVRAAUT','AAANHANG','ATRACTOR','AWERKT','ABROM','ALEVEN','APERSONG','AGEZONG','AWAOREG','ABRAND','AZEILPL','APLEZIER','AFIETS','AINBOED','ABYSTAND')"
   ]
  },
  {
   "cell_type": "code",
   "execution_count": 147,
   "metadata": {},
   "outputs": [
    {
     "data": {
      "image/png": "[encoded data removed]",
      "text/plain": [
       "plot without title"
      ]
     },
     "metadata": {},
     "output_type": "display_data"
    }
   ],
   "source": [
    "# Plot the heatmap of\n",
    "library(reshape2)\n",
    "library(ggplot2)\n",
    "options(repr.plot.height=4,repr.plot.width=6)\n",
    "ggplot(data = melt(cor(x=df[,cols.cor.capp],y=df[,cols.cor.capa] )), aes(x=Var1, y=Var2, fill=value)) + \n",
    "    geom_tile()+\n",
    "    scale_color_hue(name = \"correlation\")+\n",
    "    labs(x = \"Capital P\", y = \"Capital A\")+\n",
    "    theme(axis.text.x = element_text(angle = 90, hjust = 1, size=6),\n",
    "          axis.text.y = element_text(size=6),plot.caption = element_text(size = 8))"
   ]
  },
  {
   "cell_type": "markdown",
   "metadata": {},
   "source": [
    "As this plot shows, the corresponding variable pairs are highly correlated together.\n",
    "\n",
    "Since a pair of the corresponding variables describe each other, one of them would be unnecessary to hold."
   ]
  },
  {
   "cell_type": "markdown",
   "metadata": {},
   "source": [
    "### Correlation between independent variables"
   ]
  },
  {
   "cell_type": "markdown",
   "metadata": {},
   "source": [
    "Similar to the previous section, check the correlations between independent variables.\n",
    "\n",
    "Note: variables beginning with the capital P are excluded from the targets of this section since they are represented by the capital A variables."
   ]
  },
  {
   "cell_type": "code",
   "execution_count": 148,
   "metadata": {
    "scrolled": true
   },
   "outputs": [],
   "source": [
    "library(\"tidyverse\")"
   ]
  },
  {
   "cell_type": "markdown",
   "metadata": {},
   "source": [
    "##### Generate the list of correlations"
   ]
  },
  {
   "cell_type": "code",
   "execution_count": 149,
   "metadata": {},
   "outputs": [],
   "source": [
    "# define all independent variables except the categorical and the capital P variables.\n",
    "cols=setdiff(colnames(df), c(\"MOSTYPE\",\"MOSHOOFD\", cols.cor.capp))\n",
    "data.frame(cor(df[cols])) %>% rownames_to_column(var = \"idx\") %>% gather(key, value, -idx) ->df.cor"
   ]
  },
  {
   "cell_type": "markdown",
   "metadata": {},
   "source": [
    "###### Filter into highly correlated pairs"
   ]
  },
  {
   "cell_type": "markdown",
   "metadata": {},
   "source": [
    "Picking up pairs having more than 0.8 correlation."
   ]
  },
  {
   "cell_type": "code",
   "execution_count": 150,
   "metadata": {},
   "outputs": [],
   "source": [
    "# extract all combinations correlating over abs(0.8)\n",
    "df.cor.high=df.cor[(abs(df.cor[\"value\"])>=.8)&(abs(df.cor[\"value\"])<1),]\n",
    "# Remove duplicated combinations\n",
    "hihg_cor_vec=list()\n",
    "for(i in seq(1,nrow(df.cor.high),1)){\n",
    "    elm=list(sort(c(df.cor.high[i,\"idx\"], df.cor.high[i,\"key\"])))\n",
    "    hihg_cor_vec=append(hihg_cor_vec, elm)\n",
    "}\n",
    "cols.cor.high.pairs=unique(hihg_cor_vec)"
   ]
  },
  {
   "cell_type": "markdown",
   "metadata": {},
   "source": [
    "##### Draw scatter plots about the highly correlated pairs"
   ]
  },
  {
   "cell_type": "code",
   "execution_count": 151,
   "metadata": {},
   "outputs": [],
   "source": [
    "library(ggplot2)"
   ]
  },
  {
   "cell_type": "code",
   "execution_count": 152,
   "metadata": {},
   "outputs": [],
   "source": [
    "plots.cor.high=list()\n",
    "for (i in seq(1,length(cols.cor.high.pairs))){\n",
    "    labelX=cols.cor.high.pairs[[i]][1]\n",
    "    labelY=cols.cor.high.pairs[[i]][2]\n",
    "    plots.cor.high[[i]]=ggplot(data=df, aes_(x=as.name(labelX), y=as.name(labelY)))+\n",
    "        geom_point() +\n",
    "        ggtitle(paste(labelX,\"and\",labelY))+\n",
    "        labs(x = labelX, y = labelY)+\n",
    "        theme(plot.caption = element_text(size = 8, face = \"bold\"),\n",
    "            axis.title = element_text(size = 8),\n",
    "            plot.title = element_text(size = 8, face = \"bold\", hjust = 0.5))\n",
    "}"
   ]
  },
  {
   "cell_type": "code",
   "execution_count": 153,
   "metadata": {},
   "outputs": [
    {
     "data": {
      "image/png": "[encoded data removed]",
      "text/plain": [
       "plot without title"
      ]
     },
     "metadata": {},
     "output_type": "display_data"
    }
   ],
   "source": [
    "library(gridExtra)\n",
    "options(repr.plot.width=6,repr.plot.height=2)\n",
    "do.call(\"grid.arrange\", c(plots.cor.high, ncol=3))"
   ]
  },
  {
   "cell_type": "markdown",
   "metadata": {},
   "source": [
    "The 2 pairs below are strongly and negatively correlated together. It indicates that they are almost exclusive.\n",
    "\n",
    "    - MHHUUR(National Health Service) and MZPART (Private health insurance)\n",
    "    \n",
    "    - MZFONDS(Rented house) and MHKOOP(Homeowners)\n",
    "    \n",
    "On the other hand, a linear relationship between MRELGE (Married) and MRELOV (Other relation) is not as narrow as other pairs. It means that they are somewhat exclusive but there would be another factor to describe those 2 variables.\n",
    "\n",
    "Hence, one of the pairs among the strongly correlated pairs could be removed, whereas MZFONDS and MHKOOP should be kept."
   ]
  },
  {
   "cell_type": "code",
   "execution_count": 154,
   "metadata": {},
   "outputs": [],
   "source": [
    "# Define the candidates of being removed.\n",
    "cols.cor.high=c(\"MZFONDS\",\"MHHUUR\")"
   ]
  },
  {
   "cell_type": "markdown",
   "metadata": {},
   "source": [
    "### Correlation Ratio"
   ]
  },
  {
   "cell_type": "markdown",
   "metadata": {},
   "source": [
    "Features having a high correlation with a response variable could be a good predictor for a model assuming linearity among predictors and a response variable.\n",
    "\n",
    "Therefore, it is meaningful to check the existence of those features.\n",
    "\n",
    "Here, figure out the relationship between **quantitative variables** and **CARAVAN (qualitative variable)** by introducing the correlation ratio."
   ]
  },
  {
   "cell_type": "markdown",
   "metadata": {},
   "source": [
    "##### Compute correlation ratio"
   ]
  },
  {
   "cell_type": "code",
   "execution_count": 155,
   "metadata": {},
   "outputs": [],
   "source": [
    "library(\"DiscriMiner\")"
   ]
  },
  {
   "cell_type": "code",
   "execution_count": 156,
   "metadata": {},
   "outputs": [],
   "source": [
    "# define the quantitative cols\n",
    "cols=setdiff(colnames(df), c('MOSTYPE','MOSHOOFD','CARAVAN', cols.cor.capp, cols.cor.high))\n",
    "df.corratio=data.frame()\n",
    "for (i in seq(1, length(cols))){\n",
    "    # calculate correlation ratio and store the result into df.corratio\n",
    "    ratio_=corRatio(variable=df[,cols[i]], group=df[,\"CARAVAN\"])\n",
    "    df_=data.frame(variable=cols[i], ratio=ratio_)\n",
    "    df.corratio=rbind(df.corratio, df_)\n",
    "}\n",
    "# add rank column and sort it\n",
    "df.corratio[\"rank\"]=as.integer(rank(-df.corratio[,\"ratio\"]))\n",
    "df.corratio=df.corratio[order(df.corratio[\"rank\"]),]"
   ]
  },
  {
   "cell_type": "markdown",
   "metadata": {},
   "source": [
    "##### Plot the all ratio into a histogram"
   ]
  },
  {
   "cell_type": "code",
   "execution_count": 157,
   "metadata": {},
   "outputs": [
    {
     "data": {
      "image/png": "[encoded data removed]",
      "text/plain": [
       "plot without title"
      ]
     },
     "metadata": {},
     "output_type": "display_data"
    }
   ],
   "source": [
    "options(repr.plot.height=2,repr.plot.width=3)\n",
    "plt=ggplot(data=df.corratio,aes(x=ratio))+\n",
    "    geom_histogram(bins=30)\n",
    "plt"
   ]
  },
  {
   "cell_type": "markdown",
   "metadata": {},
   "source": [
    "Since the proportion of the caravan policyholder is approximately 6%, the correlation ratio is basically very low among each variable. However, it is possible to do relative evaluation among the variables.\n",
    "\n",
    "According to the histogram, many variables are located at the first bin, indicating no correlation with CARAVAN."
   ]
  },
  {
   "cell_type": "markdown",
   "metadata": {},
   "source": [
    "##### Display the best 10 correlation ratio"
   ]
  },
  {
   "cell_type": "code",
   "execution_count": 158,
   "metadata": {},
   "outputs": [
    {
     "data": {
      "text/html": [
       "<table>\n",
       "<caption>A data.frame: 10 × 3</caption>\n",
       "<thead>\n",
       "\t<tr><th></th><th scope=col>variable</th><th scope=col>ratio</th><th scope=col>rank</th></tr>\n",
       "\t<tr><th></th><th scope=col>&lt;fct&gt;</th><th scope=col>&lt;dbl&gt;</th><th scope=col>&lt;int&gt;</th></tr>\n",
       "</thead>\n",
       "<tbody>\n",
       "\t<tr><th scope=row>43</th><td>APERSAUT</td><td>0.020807805</td><td> 1</td></tr>\n",
       "\t<tr><th scope=row>57</th><td>APLEZIER</td><td>0.011171843</td><td> 2</td></tr>\n",
       "\t<tr><th scope=row>39</th><td>MKOOPKLA</td><td>0.009199731</td><td> 3</td></tr>\n",
       "\t<tr><th scope=row>16</th><td>MOPLLAAG</td><td>0.008194729</td><td> 4</td></tr>\n",
       "\t<tr><th scope=row>38</th><td>MINKGEM </td><td>0.008134808</td><td> 5</td></tr>\n",
       "\t<tr><th scope=row>40</th><td>AWAPART </td><td>0.007984792</td><td> 6</td></tr>\n",
       "\t<tr><th scope=row>14</th><td>MOPLHOOG</td><td>0.007161235</td><td> 7</td></tr>\n",
       "\t<tr><th scope=row>33</th><td>MINKM30 </td><td>0.006372739</td><td> 8</td></tr>\n",
       "\t<tr><th scope=row>28</th><td>MHKOOP  </td><td>0.006159419</td><td> 9</td></tr>\n",
       "\t<tr><th scope=row>31</th><td>MAUT0   </td><td>0.005856772</td><td>10</td></tr>\n",
       "</tbody>\n",
       "</table>\n"
      ],
      "text/latex": [
       "A data.frame: 10 × 3\n",
       "\\begin{tabular}{r|lll}\n",
       "  & variable & ratio & rank\\\\\n",
       "  & <fct> & <dbl> & <int>\\\\\n",
       "\\hline\n",
       "\t43 & APERSAUT & 0.020807805 &  1\\\\\n",
       "\t57 & APLEZIER & 0.011171843 &  2\\\\\n",
       "\t39 & MKOOPKLA & 0.009199731 &  3\\\\\n",
       "\t16 & MOPLLAAG & 0.008194729 &  4\\\\\n",
       "\t38 & MINKGEM  & 0.008134808 &  5\\\\\n",
       "\t40 & AWAPART  & 0.007984792 &  6\\\\\n",
       "\t14 & MOPLHOOG & 0.007161235 &  7\\\\\n",
       "\t33 & MINKM30  & 0.006372739 &  8\\\\\n",
       "\t28 & MHKOOP   & 0.006159419 &  9\\\\\n",
       "\t31 & MAUT0    & 0.005856772 & 10\\\\\n",
       "\\end{tabular}\n"
      ],
      "text/markdown": [
       "\n",
       "A data.frame: 10 × 3\n",
       "\n",
       "| <!--/--> | variable &lt;fct&gt; | ratio &lt;dbl&gt; | rank &lt;int&gt; |\n",
       "|---|---|---|---|\n",
       "| 43 | APERSAUT | 0.020807805 |  1 |\n",
       "| 57 | APLEZIER | 0.011171843 |  2 |\n",
       "| 39 | MKOOPKLA | 0.009199731 |  3 |\n",
       "| 16 | MOPLLAAG | 0.008194729 |  4 |\n",
       "| 38 | MINKGEM  | 0.008134808 |  5 |\n",
       "| 40 | AWAPART  | 0.007984792 |  6 |\n",
       "| 14 | MOPLHOOG | 0.007161235 |  7 |\n",
       "| 33 | MINKM30  | 0.006372739 |  8 |\n",
       "| 28 | MHKOOP   | 0.006159419 |  9 |\n",
       "| 31 | MAUT0    | 0.005856772 | 10 |\n",
       "\n"
      ],
      "text/plain": [
       "   variable ratio       rank\n",
       "43 APERSAUT 0.020807805  1  \n",
       "57 APLEZIER 0.011171843  2  \n",
       "39 MKOOPKLA 0.009199731  3  \n",
       "16 MOPLLAAG 0.008194729  4  \n",
       "38 MINKGEM  0.008134808  5  \n",
       "40 AWAPART  0.007984792  6  \n",
       "14 MOPLHOOG 0.007161235  7  \n",
       "33 MINKM30  0.006372739  8  \n",
       "28 MHKOOP   0.006159419  9  \n",
       "31 MAUT0    0.005856772 10  "
      ]
     },
     "metadata": {},
     "output_type": "display_data"
    }
   ],
   "source": [
    "head(df.corratio, 10)"
   ]
  },
  {
   "cell_type": "markdown",
   "metadata": {},
   "source": [
    "Best 10 variables are;\n",
    "\n",
    "1. APERSAUT - Number of car policies\n",
    "2. APLEZIER - Number of boat policies\n",
    "3. MKOOPKLA - Purchasing power class\n",
    "4. MOPLLAAG - Lower level education\n",
    "5. MINKGEM - Average income\n",
    "6. AWAPART - Number of private third party insurance\n",
    "7. MOPLHOOG - High level education\n",
    "8. MINKM30 - Income < 30.000\n",
    "9. MHKOOP - Home owners\n",
    "10. MAUT0 - No car\n",
    "\n",
    "Those variables seem to indicate the degree of wealth which customers have.\n",
    "\n",
    "Those variables could be better predictors for models assuming linearity."
   ]
  },
  {
   "cell_type": "markdown",
   "metadata": {},
   "source": [
    "### Caravan policyholder's distribution"
   ]
  },
  {
   "cell_type": "markdown",
   "metadata": {},
   "source": [
    "LDA, a classification model, draw a decision boundary based on numerical predictors.\n",
    "\n",
    "To draw an appropriate boundary, it is helpful for the classifier if predictors have the properties below;\n",
    "\n",
    "- The predictor value where caravan = 0 and the predictor value where caravan = 1 are **normally** distributed\n",
    "\n",
    "- The predictor value where caravan = 0 and the predictor value where caravan = 1 are **separately** distributed\n",
    "\n",
    "The sample image below showing histograms which normally and separately distribute."
   ]
  },
  {
   "cell_type": "markdown",
   "metadata": {},
   "source": [
    "<p>Figure1: histograms of class1 and class2 (James, 2015)</p>\n",
    "<img border=\"0\" src=\"./img/lda1.png\" width=\"300\" align=left>"
   ]
  },
  {
   "cell_type": "markdown",
   "metadata": {},
   "source": [
    "In order to confirm whether features have such nature, plot histograms."
   ]
  },
  {
   "cell_type": "markdown",
   "metadata": {},
   "source": [
    "##### Prepare plots"
   ]
  },
  {
   "cell_type": "markdown",
   "metadata": {},
   "source": [
    "The number of numerical predictors is 62, which is too much to plot all of them at once.\n",
    "\n",
    "Hence, predictors having either the 1st or the 2nd nature above are reported here."
   ]
  },
  {
   "cell_type": "code",
   "execution_count": 159,
   "metadata": {},
   "outputs": [],
   "source": [
    "cols.lda=c('MOPLLAAG','MBERARBG','MSKC','MINK4575','MINKGEM','MKOOPKLA','MAUT1','APERSAUT','MBERHOOG','ABRAND','AWAPART')"
   ]
  },
  {
   "cell_type": "code",
   "execution_count": 160,
   "metadata": {},
   "outputs": [],
   "source": [
    "library(ggplot2)\n",
    "plots.hist=list()\n",
    "for (i in seq(1, length(cols.lda))){\n",
    "    colname=cols.lda[i]\n",
    "    tmp.df0=data.frame(X=df[df[,\"CARAVAN\"]==0,colname])\n",
    "    tmp.df1=data.frame(X=df[df[,\"CARAVAN\"]==1,colname])\n",
    "\n",
    "    plots.hist[[i]]=ggplot(data=df, aes())+\n",
    "        geom_histogram(data=tmp.df0,aes(x=X,y=..density..),bins = 30,alpha=0.4,color=\"red\")+\n",
    "        geom_histogram(data=tmp.df1,aes(x=X,y=..density..),bins = 30,alpha=0.4,color=\"blue\")+\n",
    "        ggtitle(colname)+\n",
    "        labs(x = colname)+\n",
    "        theme(plot.caption = element_text(size = 8, face = \"bold\"),\n",
    "              plot.title = element_text(size = 8, face = \"bold\", hjust = 0.5),\n",
    "              axis.title = element_text(size = 8))\n",
    "}"
   ]
  },
  {
   "cell_type": "markdown",
   "metadata": {},
   "source": [
    "##### Plots histograms"
   ]
  },
  {
   "cell_type": "markdown",
   "metadata": {},
   "source": [
    "The **blue histogram** represents the probability density of **the caravan policyholders**, whereas **the non-caravan policyholders** are denoted as **the red one**."
   ]
  },
  {
   "cell_type": "code",
   "execution_count": 161,
   "metadata": {},
   "outputs": [
    {
     "data": {
      "image/png": "[encoded data removed]",
      "text/plain": [
       "plot without title"
      ]
     },
     "metadata": {},
     "output_type": "display_data"
    }
   ],
   "source": [
    "options(repr.plot.width=8,repr.plot.height=6)\n",
    "library(gridExtra)\n",
    "do.call(\"grid.arrange\", c(plots.hist, ncol=4))"
   ]
  },
  {
   "cell_type": "markdown",
   "metadata": {},
   "source": [
    "##### Findings"
   ]
  },
  {
   "cell_type": "markdown",
   "metadata": {},
   "source": [
    "Although there are no predictors whose each class is exactly normally and separately distributed, some are either normally or separately distributed.\n",
    "\n",
    "These 11 predictors would satisfy the nature required to contribute to predicting.\n",
    "\n",
    "1.  MOPLLAAG - Lower level education\n",
    "2.  MBERARBG - Skilled labourers\n",
    "3.  MBERHOOG - High status\n",
    "4.  MSKC - Social class C\n",
    "5.  MINK4575 - Income 45-75.000\n",
    "6.  MINKGEM - Average income\n",
    "7.  MKOOPKLA - Purchasing power class\n",
    "8.  MAUT1 - 1 car\n",
    "9.  ABRAND - Number of fire policies\n",
    "10. AWAPART - Number of private third party insurance\n",
    "11. APERSAUT    - Number of car policies"
   ]
  },
  {
   "cell_type": "markdown",
   "metadata": {},
   "source": [
    "# Model selection"
   ]
  },
  {
   "cell_type": "markdown",
   "metadata": {},
   "source": [
    "1. Logistic Regression\n",
    "\n",
    "    Logistic Regression would be an appropriate model for this task. This model can provide not only the probabilities of occurrence of the event, but also coefficients denoting how much contributes to making the probabilities. This information helps to determine what kind of customers should have a mail from an insurance company.\n",
    "    \n",
    "    In addition, the exploration data analysis shows that there are correlated features with CARAVAN. It indicates that Logistic Regression can hold predictors contributing to the prediction.\n",
    "    \n",
    "    On the other hand, the exploration also detects the existence of multicollinearity between features. Logistic Regression cannot estimate parameters when predictors are strongly correlated together. Hence, one of the correlated pair should be removed for this model.\n",
    "    \n",
    "    In terms of the number of features, it reaches to over 60 variables after removing correlated ones. In addition, the exploration also finds that **many features have no correlation with CARAVAN**. Therefore, it is assumed that many of them have no coefficient. To efficiently and effectively select related features to purchasing the caravan policy, **automated feature selection** should be considered. It is possible for Logistic Regression to introduce 2 ways of feature selection, which are **subset selection & Logistic Regression** and **Lasso Logistic Regression**.\n",
    "    \n",
    "    In conclusion, 1. subset selection & Logistic Regression and 2. Lasso Logistic Regression are adopted.\n",
    "    \n",
    "    \n",
    "2. Linear Descriminant Analysis\n",
    "\n",
    "    This model is not very appropriate for this task since it does not provide information on how much and which variable contributes to the probability of the event occurrence. In addition, LDA cannot deal with categorical values.\n",
    "    \n",
    "    However, the exploration recognises that several features are normally and separately distributed, which satisfies the assumption of LDA. Furthermore, the exploration demonstrates that in the histogram plots, categorical values do not show any patterns which are helpful to find the caravan policyholders.\n",
    "    \n",
    "    In conclusion, LDA performs based on different properties of features. Therefore, introducing this model could provide a good model comparison with Logistic Regression."
   ]
  },
  {
   "cell_type": "markdown",
   "metadata": {},
   "source": [
    "# Pre-Processing"
   ]
  },
  {
   "cell_type": "markdown",
   "metadata": {},
   "source": [
    "### Generate dummy variable"
   ]
  },
  {
   "cell_type": "markdown",
   "metadata": {},
   "source": [
    "To deal with categorical variables in the prediction task, convert them into dummy variables.\n",
    "\n",
    "Categorical variables are `MOSTYPE` and `MOSHOOFD` which have 40 and 10 levels respectively.\n",
    "\n",
    "From those 2 variables, generate 50 dummy variables.\n",
    "\n",
    "After that, remove 2 duplicated variables and 2 original variables."
   ]
  },
  {
   "cell_type": "markdown",
   "metadata": {},
   "source": [
    "##### Generate dummy variables"
   ]
  },
  {
   "cell_type": "code",
   "execution_count": 162,
   "metadata": {},
   "outputs": [],
   "source": [
    "library(\"dummies\")"
   ]
  },
  {
   "cell_type": "code",
   "execution_count": 163,
   "metadata": {},
   "outputs": [],
   "source": [
    "MOSTYPE=as.factor(df$MOSTYPE)\n",
    "MOSHOOFD=as.factor(df$MOSHOOFD)\n",
    "df.dm=cbind(df, dummy.data.frame(data.frame(MOSTYPE, MOSHOOFD)))"
   ]
  },
  {
   "cell_type": "markdown",
   "metadata": {},
   "source": [
    "##### Drop duplicated and original variables"
   ]
  },
  {
   "cell_type": "code",
   "execution_count": 164,
   "metadata": {},
   "outputs": [],
   "source": [
    "df.dm=df.dm[, -which (colnames(df.dm) %in% c(\"MOSTYPE\",\"MOSHOOFD\",\"MOSHOOFD10\",\"MOSTYPE41\"))]"
   ]
  },
  {
   "cell_type": "markdown",
   "metadata": {},
   "source": [
    "Now, there are 132 variables."
   ]
  },
  {
   "cell_type": "code",
   "execution_count": 165,
   "metadata": {},
   "outputs": [
    {
     "data": {
      "text/html": [
       "FALSE"
      ],
      "text/latex": [
       "FALSE"
      ],
      "text/markdown": [
       "FALSE"
      ],
      "text/plain": [
       "[1] FALSE"
      ]
     },
     "metadata": {},
     "output_type": "display_data"
    }
   ],
   "source": [
    "\"MOSTYPE14\" %in% colnames(df.dm)"
   ]
  },
  {
   "cell_type": "markdown",
   "metadata": {},
   "source": [
    "As the previous exploration points out, there is no value of 14 in the categorical variable of MOSTYPE.\n",
    "\n",
    "Hence, the dummied variable `MOSTYPE14` is not generated."
   ]
  },
  {
   "cell_type": "markdown",
   "metadata": {},
   "source": [
    "# First Model"
   ]
  },
  {
   "cell_type": "markdown",
   "metadata": {},
   "source": [
    "# Subset selection + Logistic regression"
   ]
  },
  {
   "cell_type": "markdown",
   "metadata": {},
   "source": [
    "### Data preparation"
   ]
  },
  {
   "cell_type": "markdown",
   "metadata": {},
   "source": [
    "##### Remove highly correlated independent variables"
   ]
  },
  {
   "cell_type": "markdown",
   "metadata": {},
   "source": [
    "Use dummied data frame.\n",
    "\n",
    "According to the previous exploration, remove the features highly correlated with another independent variable."
   ]
  },
  {
   "cell_type": "code",
   "execution_count": 166,
   "metadata": {},
   "outputs": [
    {
     "name": "stdout",
     "output_type": "stream",
     "text": [
      "[1] \"There are 109 variables including CARAVAN now.\"\n"
     ]
    }
   ],
   "source": [
    "cols.subsetbase=setdiff(colnames(df.dm), c(cols.cor.high, cols.cor.capp))\n",
    "df.subsetbase=df.dm[cols.subsetbase]\n",
    "print(paste(\"There are\",length(cols.subsetbase),\"variables including CARAVAN now.\"))"
   ]
  },
  {
   "cell_type": "markdown",
   "metadata": {},
   "source": [
    "##### Build a model for subset selection"
   ]
  },
  {
   "cell_type": "code",
   "execution_count": 167,
   "metadata": {},
   "outputs": [],
   "source": [
    "library(leaps)"
   ]
  },
  {
   "cell_type": "code",
   "execution_count": 168,
   "metadata": {
    "scrolled": true
   },
   "outputs": [],
   "source": [
    "fit.glm = glm(CARAVAN ~ ., data = df.subsetbase, family = binomial)"
   ]
  },
  {
   "cell_type": "markdown",
   "metadata": {},
   "source": [
    "##### Investigate the warning message"
   ]
  },
  {
   "cell_type": "markdown",
   "metadata": {},
   "source": [
    "This message occurs when there are separations and quasi-separations among predictors.\n",
    "\n",
    "As the left-hand side of the picture in figure 2 shows, separations mean that one predictor (X) can perfectly determine the class of a response value (Y). Similarly, quasi-separations also do the almost same decision with a little overlap as the right-hand side of picture shows.\n",
    "\n",
    "These properties of variables affect on estimating parameters for Logistic Regression."
   ]
  },
  {
   "cell_type": "markdown",
   "metadata": {},
   "source": [
    "<p>Figure2: Image of Separation and Quasi-separations (Minitab, LLC, 2019)</p>\n",
    "<img border=\"0\" src=\"./img/sepa.png\" width=\"400\" align=left>"
   ]
  },
  {
   "cell_type": "markdown",
   "metadata": {},
   "source": [
    "Extracting the features having separation or quasi-separations through the equation below.\n",
    "\n",
    "The maximum value in a predictor where CARAVAN = 0 $\\le$ the minimum value in the predictor where CARAVAN = 1."
   ]
  },
  {
   "cell_type": "code",
   "execution_count": 169,
   "metadata": {},
   "outputs": [],
   "source": [
    "cols=setdiff(colnames(df.subsetbase),\"CARAVAN\")\n",
    "cols.sepa=list()\n",
    "for (i in seq(1, length(cols))){\n",
    "    sum0=summary(df.subsetbase[df.subsetbase[,\"CARAVAN\"]==0, cols[[i]]])\n",
    "    sum1=summary(df.subsetbase[df.subsetbase[,\"CARAVAN\"]==1, cols[[i]]])\n",
    "    if ((sum0[[\"Max.\"]] <=  sum1[[\"Min.\"]]) | (sum0[[\"Min.\"]] >=  sum1[[\"Max.\"]])){\n",
    "        cols.sepa=append(cols.sepa,list(cols[i]))\n",
    "    }\n",
    "}"
   ]
  },
  {
   "cell_type": "markdown",
   "metadata": {},
   "source": [
    "The extracted variables are;"
   ]
  },
  {
   "cell_type": "code",
   "execution_count": 170,
   "metadata": {},
   "outputs": [
    {
     "data": {
      "text/html": [
       "<ol class=list-inline>\n",
       "\t<li>'AVRAAUT'</li>\n",
       "\t<li>'AWERKT'</li>\n",
       "\t<li>'MOSTYPE15'</li>\n",
       "\t<li>'MOSTYPE16'</li>\n",
       "\t<li>'MOSTYPE17'</li>\n",
       "\t<li>'MOSTYPE18'</li>\n",
       "\t<li>'MOSTYPE19'</li>\n",
       "\t<li>'MOSTYPE21'</li>\n",
       "\t<li>'MOSTYPE28'</li>\n",
       "\t<li>'MOSTYPE40'</li>\n",
       "\t<li>'MOSHOOFD4'</li>\n",
       "</ol>\n"
      ],
      "text/latex": [
       "\\begin{enumerate*}\n",
       "\\item 'AVRAAUT'\n",
       "\\item 'AWERKT'\n",
       "\\item 'MOSTYPE15'\n",
       "\\item 'MOSTYPE16'\n",
       "\\item 'MOSTYPE17'\n",
       "\\item 'MOSTYPE18'\n",
       "\\item 'MOSTYPE19'\n",
       "\\item 'MOSTYPE21'\n",
       "\\item 'MOSTYPE28'\n",
       "\\item 'MOSTYPE40'\n",
       "\\item 'MOSHOOFD4'\n",
       "\\end{enumerate*}\n"
      ],
      "text/markdown": [
       "1. 'AVRAAUT'\n",
       "2. 'AWERKT'\n",
       "3. 'MOSTYPE15'\n",
       "4. 'MOSTYPE16'\n",
       "5. 'MOSTYPE17'\n",
       "6. 'MOSTYPE18'\n",
       "7. 'MOSTYPE19'\n",
       "8. 'MOSTYPE21'\n",
       "9. 'MOSTYPE28'\n",
       "10. 'MOSTYPE40'\n",
       "11. 'MOSHOOFD4'\n",
       "\n",
       "\n"
      ],
      "text/plain": [
       " [1] \"AVRAAUT\"   \"AWERKT\"    \"MOSTYPE15\" \"MOSTYPE16\" \"MOSTYPE17\" \"MOSTYPE18\"\n",
       " [7] \"MOSTYPE19\" \"MOSTYPE21\" \"MOSTYPE28\" \"MOSTYPE40\" \"MOSHOOFD4\""
      ]
     },
     "metadata": {},
     "output_type": "display_data"
    }
   ],
   "source": [
    "as.character(cols.sepa)"
   ]
  },
  {
   "cell_type": "markdown",
   "metadata": {},
   "source": [
    "##### Findings\n",
    "\n",
    "There are 11 variables which could affect the modelling.\n",
    "\n",
    "Keep them and confirm whether these predictors are held or removed by subset selection and Lasso Regression."
   ]
  },
  {
   "cell_type": "markdown",
   "metadata": {},
   "source": [
    "###### Run forward feature selection."
   ]
  },
  {
   "cell_type": "code",
   "execution_count": 171,
   "metadata": {},
   "outputs": [],
   "source": [
    "# set nvmax = 100 to save execution time. It is not necessary to know 100th and more variables being selected.\n",
    "regfit.full=regsubsets(fit.glm$formula, nvmax = 108, data=df.subsetbase, method = \"forward\")"
   ]
  },
  {
   "cell_type": "markdown",
   "metadata": {},
   "source": [
    "##### Store the selected variables into a data frame"
   ]
  },
  {
   "cell_type": "code",
   "execution_count": 172,
   "metadata": {},
   "outputs": [],
   "source": [
    "# generate df based on the outcome\n",
    "tmp.cols=summary(regfit.full)$which\n",
    "tmp.cols=tmp.cols[, -which (colnames(tmp.cols) %in% c(\"(Intercept)\"))]\n",
    "# convert the df above into a readable df\n",
    "cols.subsets=data.frame(matrix(rep(NA, 2), nrow=1))[numeric(0), ]\n",
    "colnames(cols.subsets) = c(\"ord\", \"variable\")\n",
    "for (row_ in seq(1, nrow(tmp.cols), 1)){\n",
    "    for (col_ in names(tmp.cols[row_, ])){\n",
    "        if ((tmp.cols[row_, col_]) && !(col_ %in% cols.subsets[,\"variable\"])) {\n",
    "            cols.subsets=rbind(cols.subsets, data.frame(\"ord\"=row_, \"variable\"=col_))\n",
    "        }\n",
    "    }\n",
    "}"
   ]
  },
  {
   "cell_type": "markdown",
   "metadata": {},
   "source": [
    "##### Figure out the appropriate number of variables through plots"
   ]
  },
  {
   "cell_type": "markdown",
   "metadata": {},
   "source": [
    "The fitted model `regfit.full` contains `C_p`, `BIC` and `AdjR2` of the models at each number of variables.\n",
    "\n",
    "The measurement of `C_p`, `BIC` indicates the badness of the model, whereas the higher `AdjR2` indicates the better performance of the model.\n",
    "\n",
    "Based on this information, figure out the optimum number of variables."
   ]
  },
  {
   "cell_type": "markdown",
   "metadata": {},
   "source": [
    "##### Define the function giving a scatter plot based on inputs of `C_p`, `BIC` and `AdjR2`"
   ]
  },
  {
   "cell_type": "code",
   "execution_count": 173,
   "metadata": {},
   "outputs": [],
   "source": [
    "plot_subset_summary=function(values, points, name_){\n",
    "    tmp.df=data.frame(X=seq(1, length(values)), Y=values)\n",
    "    tmp.df2=data.frame(X=points, Y=values[points], name=c(\"C_p\", \"BIC\", \"AdjR2\"))\n",
    "    ggplot()+\n",
    "        geom_line(data=tmp.df, aes(x=X, y=Y))+\n",
    "        geom_point(data=tmp.df2, aes(x=X, y=Y, color=name))+\n",
    "        labs(x = \"# of variables\", y = name_)+\n",
    "        scale_color_hue(name = \"Opt points from\")+\n",
    "        theme(axis.title = element_text(size = 8),legend.title = element_text(size = 8),\n",
    "             legend.text = element_text(size = 8))\n",
    "}"
   ]
  },
  {
   "cell_type": "markdown",
   "metadata": {},
   "source": [
    "##### Generate and draw plots"
   ]
  },
  {
   "cell_type": "code",
   "execution_count": 174,
   "metadata": {},
   "outputs": [],
   "source": [
    "# store cp, bic and adjR^2 into a list respectively\n",
    "regfit.full.summary=summary(regfit.full)\n",
    "mincp = which.min(regfit.full.summary$cp)\n",
    "minbic = which.min(regfit.full.summary$bic)\n",
    "max_adjr2 = which.max(regfit.full.summary$adjr2)\n",
    "opts=c(mincp, minbic, max_adjr2)"
   ]
  },
  {
   "cell_type": "code",
   "execution_count": 175,
   "metadata": {},
   "outputs": [],
   "source": [
    "# put the lists into the function, then obtain the lists of plots\n",
    "plots.subsets.opts=list()\n",
    "plots.subsets.opts[[1]]=plot_subset_summary(regfit.full.summary$cp, opts, \"C_p\")\n",
    "plots.subsets.opts[[2]]=plot_subset_summary(regfit.full.summary$bic, opts, \"BIC\")\n",
    "plots.subsets.opts[[3]]=plot_subset_summary(regfit.full.summary$adjr2, opts, \"AdjR2\")\n",
    "plots.subsets.opts[[4]]=plot_subset_summary(regfit.full.summary$rss, opts, \"RSS\")"
   ]
  },
  {
   "cell_type": "code",
   "execution_count": 176,
   "metadata": {},
   "outputs": [
    {
     "data": {
      "image/png": "[encoded data removed]",
      "text/plain": [
       "plot without title"
      ]
     },
     "metadata": {},
     "output_type": "display_data"
    }
   ],
   "source": [
    "# Draw the plots\n",
    "options(repr.plot.width=6,repr.plot.height=4)\n",
    "library(gridExtra)\n",
    "do.call(\"grid.arrange\", c(plots.subsets.opts, ncol=2))"
   ]
  },
  {
   "cell_type": "code",
   "execution_count": 177,
   "metadata": {},
   "outputs": [
    {
     "name": "stdout",
     "output_type": "stream",
     "text": [
      "[1] \"Min BIC is given by 8 of variables\"\n",
      "[1] \"Min CP  is given by 26 of variables\"\n",
      "[1] \"Min AdjR^2 is given by 37 of variables\"\n"
     ]
    }
   ],
   "source": [
    "# Show the number of variables where cp, bic and adjR^2 is optimum\n",
    "print(paste(\"Min BIC is given by\",minbic,\"of variables\"))\n",
    "print(paste(\"Min CP  is given by\",mincp,\"of variables\"))\n",
    "print(paste(\"Min AdjR^2 is given by\",max_adjr2,\"of variables\"))"
   ]
  },
  {
   "cell_type": "markdown",
   "metadata": {},
   "source": [
    "##### Findings\n",
    "\n",
    "As the output above shows;\n",
    "\n",
    "    1. The minimum BIC is given by 8 variables\n",
    "    2. The minimum C_P is given by 26 variables\n",
    "    3. The minimum Adjusted R^2 is given by 37 variables\n",
    "\n",
    "In terms of the optimum number of variables based on the minimum C_p, it also gives the almost highest adjusted R^2. In addition, it also performs the lower BIC than adjusted R^2. At this point, the minimum C_p would provide a better model than the minimum adjusted R^2.\n",
    "\n",
    "On the other hand, the point given by the minimum BIC is competitive to the minimum C_p. Its BIC score is far lower than the point given by the minimum C_p although other scores are worse than the point given by the minimum C_p.\n",
    "\n",
    "In the later step, those 2 points are compared and determined which is better."
   ]
  },
  {
   "cell_type": "markdown",
   "metadata": {},
   "source": [
    "#### Show the summary given by the minimum CP."
   ]
  },
  {
   "cell_type": "code",
   "execution_count": 178,
   "metadata": {},
   "outputs": [
    {
     "data": {
      "text/plain": [
       "\n",
       "Call:\n",
       "glm(formula = fit.glm$formula, family = binomial, data = df.mincp)\n",
       "\n",
       "Deviance Residuals: \n",
       "    Min       1Q   Median       3Q      Max  \n",
       "-2.6704  -0.3654  -0.2654  -0.1977   3.0585  \n",
       "\n",
       "Coefficients:\n",
       "            Estimate Std. Error z value Pr(>|z|)    \n",
       "(Intercept) -4.55969    0.57219  -7.969 1.60e-15 ***\n",
       "APERSAUT     0.78862    0.08829   8.932  < 2e-16 ***\n",
       "APLEZIER     1.92380    0.39945   4.816 1.46e-06 ***\n",
       "MOSTYPE8     0.80520    0.19574   4.114 3.89e-05 ***\n",
       "AWAPART      0.41766    0.14329   2.915 0.003559 ** \n",
       "MOPLLAAG    -0.20477    0.05159  -3.969 7.22e-05 ***\n",
       "MRELGE       0.06520    0.03743   1.742 0.081550 .  \n",
       "MOSTYPE12    1.10710    0.31026   3.568 0.000359 ***\n",
       "ABYSTAND     0.48995    0.30746   1.594 0.111041    \n",
       "AFIETS       0.43650    0.19801   2.204 0.027492 *  \n",
       "MOSTYPE3     0.54221    0.24827   2.184 0.028965 *  \n",
       "MBERBOER    -0.16017    0.07963  -2.011 0.044286 *  \n",
       "MGODPR       0.06321    0.03630   1.741 0.081603 .  \n",
       "MOSTYPE23   -0.99418    0.54154  -1.836 0.066383 .  \n",
       "MINK123M    -0.24293    0.11942  -2.034 0.041933 *  \n",
       "MINKGEM      0.08867    0.05435   1.631 0.102786    \n",
       "AWAOREG      0.79345    0.49528   1.602 0.109149    \n",
       "MOPLMIDD    -0.06693    0.04691  -1.427 0.153617    \n",
       "MOSTYPE38    0.56067    0.24830   2.258 0.023944 *  \n",
       "MOSHOOFD8    0.32424    0.15597   2.079 0.037632 *  \n",
       "ABRAND       0.23599    0.12929   1.825 0.067968 .  \n",
       "AWALAND     -0.81717    0.61787  -1.323 0.185981    \n",
       "MGODOV       0.07205    0.05919   1.217 0.223483    \n",
       "AZEILPL      1.85061    1.41889   1.304 0.192144    \n",
       "MOSTYPE6     0.55172    0.34115   1.617 0.105827    \n",
       "MGEMLEEF     0.11908    0.08079   1.474 0.140498    \n",
       "MSKC         0.07934    0.04356   1.822 0.068521 .  \n",
       "---\n",
       "Signif. codes:  0 '***' 0.001 '**' 0.01 '*' 0.05 '.' 0.1 ' ' 1\n",
       "\n",
       "(Dispersion parameter for binomial family taken to be 1)\n",
       "\n",
       "    Null deviance: 2635.4  on 5820  degrees of freedom\n",
       "Residual deviance: 2321.5  on 5794  degrees of freedom\n",
       "AIC: 2375.5\n",
       "\n",
       "Number of Fisher Scoring iterations: 6\n"
      ]
     },
     "metadata": {},
     "output_type": "display_data"
    }
   ],
   "source": [
    "cols.subsets.mincp=c(as.character(cols.subsets[,\"variable\"])[1:mincp], \"CARAVAN\")\n",
    "df.mincp=df.dm[cols.subsets.mincp]\n",
    "fit.glm.mincp = glm(fit.glm$formula, data = df.mincp, family = binomial)\n",
    "summary(fit.glm.mincp)"
   ]
  },
  {
   "cell_type": "markdown",
   "metadata": {},
   "source": [
    "##### Findings\n",
    "\n",
    "- A half of variables are not significant if the p-value set to $\\alpha \\lt 0.1$\n",
    "\n",
    "- It does not includes separation and quasi-separation predictors"
   ]
  },
  {
   "cell_type": "markdown",
   "metadata": {},
   "source": [
    "#### Show the summary given by the minimum BIC."
   ]
  },
  {
   "cell_type": "code",
   "execution_count": 179,
   "metadata": {},
   "outputs": [
    {
     "data": {
      "text/plain": [
       "\n",
       "Call:\n",
       "glm(formula = fit.glm$formula, family = binomial, data = df.dm[cols.subsets.minbic])\n",
       "\n",
       "Deviance Residuals: \n",
       "    Min       1Q   Median       3Q      Max  \n",
       "-2.7679  -0.3726  -0.2767  -0.2137   3.0069  \n",
       "\n",
       "Coefficients:\n",
       "            Estimate Std. Error z value Pr(>|z|)    \n",
       "(Intercept) -4.06051    0.27329 -14.858  < 2e-16 ***\n",
       "APERSAUT     0.77229    0.08655   8.923  < 2e-16 ***\n",
       "APLEZIER     2.05190    0.38801   5.288 1.24e-07 ***\n",
       "MOSTYPE8     0.71530    0.17855   4.006 6.17e-05 ***\n",
       "AWAPART      0.61071    0.11484   5.318 1.05e-07 ***\n",
       "MOPLLAAG    -0.11905    0.02624  -4.536 5.72e-06 ***\n",
       "MRELGE       0.12805    0.03306   3.873 0.000108 ***\n",
       "MOSTYPE12    0.85131    0.28742   2.962 0.003057 ** \n",
       "ABYSTAND     0.57418    0.30316   1.894 0.058222 .  \n",
       "---\n",
       "Signif. codes:  0 '***' 0.001 '**' 0.01 '*' 0.05 '.' 0.1 ' ' 1\n",
       "\n",
       "(Dispersion parameter for binomial family taken to be 1)\n",
       "\n",
       "    Null deviance: 2635.4  on 5820  degrees of freedom\n",
       "Residual deviance: 2381.5  on 5812  degrees of freedom\n",
       "AIC: 2399.5\n",
       "\n",
       "Number of Fisher Scoring iterations: 6\n"
      ]
     },
     "metadata": {},
     "output_type": "display_data"
    }
   ],
   "source": [
    "cols.subsets.minbic=c(as.character(cols.subsets[,\"variable\"])[1:minbic], \"CARAVAN\")\n",
    "fit.glm.minbic = glm(fit.glm$formula, data = df.dm[cols.subsets.minbic], family = binomial)\n",
    "summary(fit.glm.minbic)"
   ]
  },
  {
   "cell_type": "markdown",
   "metadata": {},
   "source": [
    "##### Findings\n",
    "- It does not include separation and quasi-separation predictors\n",
    "- Most of the variables are significant if the p-value set to $\\alpha \\lt 0.1$\n",
    "- Comparing with the summary given by the minimum CP;\n",
    "    - AIC score increases from 2375.5 to 2399.5\n",
    "    - Residual deviance increases from 2321.5 to 2381.5\n",
    "    \n",
    "    \n",
    "- The results above indicate a model performance would be slightly lower than the previous one\n"
   ]
  },
  {
   "cell_type": "markdown",
   "metadata": {},
   "source": [
    "Check the impact of each variable on the deviance."
   ]
  },
  {
   "cell_type": "code",
   "execution_count": 180,
   "metadata": {},
   "outputs": [
    {
     "data": {
      "text/html": [
       "<table>\n",
       "<caption>A anova: 9 × 5</caption>\n",
       "<thead>\n",
       "\t<tr><th></th><th scope=col>Df</th><th scope=col>Deviance</th><th scope=col>Resid. Df</th><th scope=col>Resid. Dev</th><th scope=col>Pr(&gt;Chi)</th></tr>\n",
       "\t<tr><th></th><th scope=col>&lt;int&gt;</th><th scope=col>&lt;dbl&gt;</th><th scope=col>&lt;int&gt;</th><th scope=col>&lt;dbl&gt;</th><th scope=col>&lt;dbl&gt;</th></tr>\n",
       "</thead>\n",
       "<tbody>\n",
       "\t<tr><th scope=row>NULL</th><td>NA</td><td>        NA</td><td>5820</td><td>2635.417</td><td>          NA</td></tr>\n",
       "\t<tr><th scope=row>APERSAUT</th><td> 1</td><td>105.393959</td><td>5819</td><td>2530.023</td><td>1.001146e-24</td></tr>\n",
       "\t<tr><th scope=row>APLEZIER</th><td> 1</td><td> 25.439477</td><td>5818</td><td>2504.584</td><td>4.564808e-07</td></tr>\n",
       "\t<tr><th scope=row>MOSTYPE8</th><td> 1</td><td> 35.417122</td><td>5817</td><td>2469.167</td><td>2.661371e-09</td></tr>\n",
       "\t<tr><th scope=row>AWAPART</th><td> 1</td><td> 31.509853</td><td>5816</td><td>2437.657</td><td>1.984308e-08</td></tr>\n",
       "\t<tr><th scope=row>MOPLLAAG</th><td> 1</td><td> 26.899121</td><td>5815</td><td>2410.758</td><td>2.143563e-07</td></tr>\n",
       "\t<tr><th scope=row>MRELGE</th><td> 1</td><td> 18.675417</td><td>5814</td><td>2392.082</td><td>1.549676e-05</td></tr>\n",
       "\t<tr><th scope=row>MOSTYPE12</th><td> 1</td><td>  7.317349</td><td>5813</td><td>2384.765</td><td>6.829206e-03</td></tr>\n",
       "\t<tr><th scope=row>ABYSTAND</th><td> 1</td><td>  3.245623</td><td>5812</td><td>2381.519</td><td>7.161446e-02</td></tr>\n",
       "</tbody>\n",
       "</table>\n"
      ],
      "text/latex": [
       "A anova: 9 × 5\n",
       "\\begin{tabular}{r|lllll}\n",
       "  & Df & Deviance & Resid. Df & Resid. Dev & Pr(>Chi)\\\\\n",
       "  & <int> & <dbl> & <int> & <dbl> & <dbl>\\\\\n",
       "\\hline\n",
       "\tNULL & NA &         NA & 5820 & 2635.417 &           NA\\\\\n",
       "\tAPERSAUT &  1 & 105.393959 & 5819 & 2530.023 & 1.001146e-24\\\\\n",
       "\tAPLEZIER &  1 &  25.439477 & 5818 & 2504.584 & 4.564808e-07\\\\\n",
       "\tMOSTYPE8 &  1 &  35.417122 & 5817 & 2469.167 & 2.661371e-09\\\\\n",
       "\tAWAPART &  1 &  31.509853 & 5816 & 2437.657 & 1.984308e-08\\\\\n",
       "\tMOPLLAAG &  1 &  26.899121 & 5815 & 2410.758 & 2.143563e-07\\\\\n",
       "\tMRELGE &  1 &  18.675417 & 5814 & 2392.082 & 1.549676e-05\\\\\n",
       "\tMOSTYPE12 &  1 &   7.317349 & 5813 & 2384.765 & 6.829206e-03\\\\\n",
       "\tABYSTAND &  1 &   3.245623 & 5812 & 2381.519 & 7.161446e-02\\\\\n",
       "\\end{tabular}\n"
      ],
      "text/markdown": [
       "\n",
       "A anova: 9 × 5\n",
       "\n",
       "| <!--/--> | Df &lt;int&gt; | Deviance &lt;dbl&gt; | Resid. Df &lt;int&gt; | Resid. Dev &lt;dbl&gt; | Pr(&gt;Chi) &lt;dbl&gt; |\n",
       "|---|---|---|---|---|---|\n",
       "| NULL | NA |         NA | 5820 | 2635.417 |           NA |\n",
       "| APERSAUT |  1 | 105.393959 | 5819 | 2530.023 | 1.001146e-24 |\n",
       "| APLEZIER |  1 |  25.439477 | 5818 | 2504.584 | 4.564808e-07 |\n",
       "| MOSTYPE8 |  1 |  35.417122 | 5817 | 2469.167 | 2.661371e-09 |\n",
       "| AWAPART |  1 |  31.509853 | 5816 | 2437.657 | 1.984308e-08 |\n",
       "| MOPLLAAG |  1 |  26.899121 | 5815 | 2410.758 | 2.143563e-07 |\n",
       "| MRELGE |  1 |  18.675417 | 5814 | 2392.082 | 1.549676e-05 |\n",
       "| MOSTYPE12 |  1 |   7.317349 | 5813 | 2384.765 | 6.829206e-03 |\n",
       "| ABYSTAND |  1 |   3.245623 | 5812 | 2381.519 | 7.161446e-02 |\n",
       "\n"
      ],
      "text/plain": [
       "          Df Deviance   Resid. Df Resid. Dev Pr(>Chi)    \n",
       "NULL      NA         NA 5820      2635.417             NA\n",
       "APERSAUT   1 105.393959 5819      2530.023   1.001146e-24\n",
       "APLEZIER   1  25.439477 5818      2504.584   4.564808e-07\n",
       "MOSTYPE8   1  35.417122 5817      2469.167   2.661371e-09\n",
       "AWAPART    1  31.509853 5816      2437.657   1.984308e-08\n",
       "MOPLLAAG   1  26.899121 5815      2410.758   2.143563e-07\n",
       "MRELGE     1  18.675417 5814      2392.082   1.549676e-05\n",
       "MOSTYPE12  1   7.317349 5813      2384.765   6.829206e-03\n",
       "ABYSTAND   1   3.245623 5812      2381.519   7.161446e-02"
      ]
     },
     "metadata": {},
     "output_type": "display_data"
    }
   ],
   "source": [
    "anova(fit.glm.minbic, test = \"Chisq\")"
   ]
  },
  {
   "cell_type": "markdown",
   "metadata": {},
   "source": [
    "##### Findings\n",
    "- Most of the predictors contribute to reducing the deviance.\n",
    "\n",
    "- Only MOSTYPE 8 (Middle class families) increase deviance."
   ]
  },
  {
   "cell_type": "markdown",
   "metadata": {},
   "source": [
    "### Conclusion of feature selection"
   ]
  },
  {
   "cell_type": "markdown",
   "metadata": {},
   "source": [
    "- The set of 8 predictors given by the minimum BIC would be better than another set of 26 predictors given by the minimum CP\n",
    "\n",
    "- The reasons for this decision are;\n",
    "    1. The 8 predictors are simpler and significant except one variable\n",
    "    2. In addition, most of them contribute to the deviance reduction\n",
    "    3. AIC score and residual deviance between the 2 sets of predictors are not very different"
   ]
  },
  {
   "cell_type": "markdown",
   "metadata": {},
   "source": [
    "### Measure the performance by CV"
   ]
  },
  {
   "cell_type": "markdown",
   "metadata": {},
   "source": [
    "First of all, showing how to calculate the performance of a training model.\n",
    "\n",
    "1. Measurement of evaluation model - ticeval2000.txt\n",
    "\n",
    "    As the assessment document given requires, the accuracy based on **`ticeval2000.txt`** is measured by the method below;\n",
    "\n",
    "    Let $\\alpha$ be the 800 customers who are most likely to have a caravan policy,\n",
    "\n",
    "    and let $\\beta$ be the number of customers who were actually a caravan policyholder.\n",
    "\n",
    "    Then, accuracy is $\\frac{\\beta}{\\alpha}=\\frac{\\beta}{800}$.\n",
    "    \n",
    "\n",
    "2. Measurement of training model - ticdata2000.txt\n",
    "\n",
    "    It should adopt the same measurement method with the evaluation model into the training model.\n",
    "\n",
    "    It is confirmed that the percentage of the caravan policyholders is approximately the same between **`ticdata2000.txt`** and **`ticeval2000.txt`**, which is 0.06.\n",
    "\n",
    "    In addition, the number of observations in **`ticeval2000.txt`** is 4000 and 800 candidates are picked up for evaluation.\n",
    "    \n",
    "    The extracting proportion is $\\frac{1}{5}$.\n",
    "    \n",
    "    In this section, k-fold cross validation is adopted and 1 fold is used for evaluation in this case.\n",
    "    \n",
    "    Let $\\alpha'$ be some customers most likely to purchase the policy, and let $\\beta'$ be the number of the actual policyholders in the evaluation in CV.\n",
    "    \n",
    "    Under this situation, $\\alpha'=1fold*\\frac{1}{5}$ and $\\beta'$ is the actual holders among $\\alpha'$.\n",
    "    \n",
    "    Based on this setting, the accuracy of the training model is measured by $\\frac{\\beta'}{\\alpha'}$"
   ]
  },
  {
   "cell_type": "markdown",
   "metadata": {},
   "source": [
    "##### Define the function giving the accuracy based on the method above"
   ]
  },
  {
   "cell_type": "code",
   "execution_count": 181,
   "metadata": {},
   "outputs": [],
   "source": [
    "get_cv_accuracy=function(preds, tests=list()){\n",
    "    df.acc=data.frame()\n",
    "    for (i in seq(1, length(preds))){\n",
    "        labels = tests[[i]]\n",
    "        pred = preds[[i]]\n",
    "        # number of caravan policyholder in labels\n",
    "        nholders=sum(labels==1)\n",
    "        # number to pick up\n",
    "        denominator=round(length(labels)*0.2)\n",
    "        # calculate the accuracy\n",
    "        df.rank=data.frame(CARAVAN=labels,rank=rank(-pred), prob=pred)\n",
    "        holder.tgt=nrow(df.rank[(df.rank[,\"rank\"]<=denominator) & (df.rank[,\"CARAVAN\"]==1),])\n",
    "        accuracy=round(holder.tgt/denominator,3)\n",
    "        df.acc=rbind(df.acc, data.frame(one_fold=length(labels),\n",
    "                                        whole_holders=nholders,\n",
    "                                        mostlikely=denominator,\n",
    "                                        detected_holders=holder.tgt,\n",
    "                                        accuracy=accuracy))\n",
    "    }\n",
    "    acc=df.acc[,\"accuracy\"]\n",
    "    print(paste(\"Accuracy mean is\",round(mean(acc[acc!=0]), 3)))\n",
    "    print(paste(\"Accuracy variance is\",round(var(acc[acc!=0]), 5)))\n",
    "    df.acc\n",
    "}"
   ]
  },
  {
   "cell_type": "markdown",
   "metadata": {},
   "source": [
    "##### Performing 10 fold cross validatoin (subset selection + logistic regression)"
   ]
  },
  {
   "cell_type": "code",
   "execution_count": 182,
   "metadata": {},
   "outputs": [],
   "source": [
    "library(\"caret\")"
   ]
  },
  {
   "cell_type": "code",
   "execution_count": 183,
   "metadata": {
    "scrolled": true
   },
   "outputs": [],
   "source": [
    "n=10\n",
    "folds=createFolds(df.subsetbase[,\"CARAVAN\"],k=n)\n",
    "preds.logi=list()\n",
    "labels.logi=list()\n",
    "\n",
    "for (i in seq(1,n)){\n",
    "    # define train and test predictors\n",
    "    train_cols=cols.subsets.minbic\n",
    "    test_cols=setdiff(cols.subsets.minbic, \"CARAVAN\")\n",
    "    # define train and test data frames\n",
    "    train_set=df.subsetbase[-folds[[i]],train_cols]\n",
    "    test_set=df.subsetbase[folds[[i]],test_cols]\n",
    "    labels=df.subsetbase[folds[[i]],\"CARAVAN\"]\n",
    "    # fitting\n",
    "    fit=glm(CARAVAN~., data=train_set, family = binomial)\n",
    "    # store results into lists\n",
    "    pred=predict(fit,newdata=test_set, type = \"response\")   \n",
    "    preds.logi[[i]]=pred\n",
    "    labels.logi[[i]]=labels\n",
    "}"
   ]
  },
  {
   "cell_type": "markdown",
   "metadata": {},
   "source": [
    "##### Measure the accuracy of training model (subset selection + logistic regression)"
   ]
  },
  {
   "cell_type": "code",
   "execution_count": 184,
   "metadata": {
    "scrolled": true
   },
   "outputs": [
    {
     "name": "stdout",
     "output_type": "stream",
     "text": [
      "[1] \"Accuracy mean is 0.161\"\n",
      "[1] \"Accuracy variance is 0.00065\"\n"
     ]
    },
    {
     "data": {
      "text/html": [
       "<table>\n",
       "<caption>A data.frame: 10 × 5</caption>\n",
       "<thead>\n",
       "\t<tr><th scope=col>one_fold</th><th scope=col>whole_holders</th><th scope=col>mostlikely</th><th scope=col>detected_holders</th><th scope=col>accuracy</th></tr>\n",
       "\t<tr><th scope=col>&lt;int&gt;</th><th scope=col>&lt;int&gt;</th><th scope=col>&lt;dbl&gt;</th><th scope=col>&lt;int&gt;</th><th scope=col>&lt;dbl&gt;</th></tr>\n",
       "</thead>\n",
       "<tbody>\n",
       "\t<tr><td>582</td><td>32</td><td>116</td><td>21</td><td>0.181</td></tr>\n",
       "\t<tr><td>582</td><td>38</td><td>116</td><td>20</td><td>0.172</td></tr>\n",
       "\t<tr><td>582</td><td>34</td><td>116</td><td>19</td><td>0.164</td></tr>\n",
       "\t<tr><td>582</td><td>47</td><td>116</td><td>25</td><td>0.216</td></tr>\n",
       "\t<tr><td>582</td><td>33</td><td>116</td><td>18</td><td>0.155</td></tr>\n",
       "\t<tr><td>582</td><td>25</td><td>116</td><td>14</td><td>0.121</td></tr>\n",
       "\t<tr><td>582</td><td>28</td><td>116</td><td>18</td><td>0.155</td></tr>\n",
       "\t<tr><td>582</td><td>38</td><td>116</td><td>18</td><td>0.155</td></tr>\n",
       "\t<tr><td>583</td><td>42</td><td>117</td><td>18</td><td>0.154</td></tr>\n",
       "\t<tr><td>582</td><td>31</td><td>116</td><td>16</td><td>0.138</td></tr>\n",
       "</tbody>\n",
       "</table>\n"
      ],
      "text/latex": [
       "A data.frame: 10 × 5\n",
       "\\begin{tabular}{r|lllll}\n",
       " one\\_fold & whole\\_holders & mostlikely & detected\\_holders & accuracy\\\\\n",
       " <int> & <int> & <dbl> & <int> & <dbl>\\\\\n",
       "\\hline\n",
       "\t 582 & 32 & 116 & 21 & 0.181\\\\\n",
       "\t 582 & 38 & 116 & 20 & 0.172\\\\\n",
       "\t 582 & 34 & 116 & 19 & 0.164\\\\\n",
       "\t 582 & 47 & 116 & 25 & 0.216\\\\\n",
       "\t 582 & 33 & 116 & 18 & 0.155\\\\\n",
       "\t 582 & 25 & 116 & 14 & 0.121\\\\\n",
       "\t 582 & 28 & 116 & 18 & 0.155\\\\\n",
       "\t 582 & 38 & 116 & 18 & 0.155\\\\\n",
       "\t 583 & 42 & 117 & 18 & 0.154\\\\\n",
       "\t 582 & 31 & 116 & 16 & 0.138\\\\\n",
       "\\end{tabular}\n"
      ],
      "text/markdown": [
       "\n",
       "A data.frame: 10 × 5\n",
       "\n",
       "| one_fold &lt;int&gt; | whole_holders &lt;int&gt; | mostlikely &lt;dbl&gt; | detected_holders &lt;int&gt; | accuracy &lt;dbl&gt; |\n",
       "|---|---|---|---|---|\n",
       "| 582 | 32 | 116 | 21 | 0.181 |\n",
       "| 582 | 38 | 116 | 20 | 0.172 |\n",
       "| 582 | 34 | 116 | 19 | 0.164 |\n",
       "| 582 | 47 | 116 | 25 | 0.216 |\n",
       "| 582 | 33 | 116 | 18 | 0.155 |\n",
       "| 582 | 25 | 116 | 14 | 0.121 |\n",
       "| 582 | 28 | 116 | 18 | 0.155 |\n",
       "| 582 | 38 | 116 | 18 | 0.155 |\n",
       "| 583 | 42 | 117 | 18 | 0.154 |\n",
       "| 582 | 31 | 116 | 16 | 0.138 |\n",
       "\n"
      ],
      "text/plain": [
       "   one_fold whole_holders mostlikely detected_holders accuracy\n",
       "1  582      32            116        21               0.181   \n",
       "2  582      38            116        20               0.172   \n",
       "3  582      34            116        19               0.164   \n",
       "4  582      47            116        25               0.216   \n",
       "5  582      33            116        18               0.155   \n",
       "6  582      25            116        14               0.121   \n",
       "7  582      28            116        18               0.155   \n",
       "8  582      38            116        18               0.155   \n",
       "9  583      42            117        18               0.154   \n",
       "10 582      31            116        16               0.138   "
      ]
     },
     "metadata": {},
     "output_type": "display_data"
    }
   ],
   "source": [
    "get_cv_accuracy(preds.logi, labels.logi)"
   ]
  },
  {
   "cell_type": "markdown",
   "metadata": {},
   "source": [
    "##### Findings\n",
    "\n",
    "- Roughly half of the actual caravan policyholders are found by this model"
   ]
  },
  {
   "cell_type": "markdown",
   "metadata": {},
   "source": [
    "# Measure the accuracy of evaluation data"
   ]
  },
  {
   "cell_type": "markdown",
   "metadata": {},
   "source": [
    "In this section, do the prediction by the model including 8 predictors chosen based on BIC.\n",
    "\n",
    "The input data for prediction is `ticeval2000.txt` and the corresponding label data is `tictgts2000.txt`."
   ]
  },
  {
   "cell_type": "markdown",
   "metadata": {},
   "source": [
    "### Data Preparation"
   ]
  },
  {
   "cell_type": "markdown",
   "metadata": {},
   "source": [
    "##### Reading evaluation data"
   ]
  },
  {
   "cell_type": "code",
   "execution_count": 185,
   "metadata": {},
   "outputs": [],
   "source": [
    "df.eval.initial = read.delim(sep = \"\\t\", file = \"./data/ticeval2000.txt\")\n",
    "cols.eval.initial=c('MOSTYPE','MAANTHUI','MGEMOMV','MGEMLEEF','MOSHOOFD','MGODRK','MGODPR','MGODOV','MGODGE','MRELGE','MRELSA','MRELOV','MFALLEEN','MFGEKIND','MFWEKIND','MOPLHOOG','MOPLMIDD','MOPLLAAG','MBERHOOG','MBERZELF','MBERBOER','MBERMIDD','MBERARBG','MBERARBO','MSKA','MSKB1','MSKB2','MSKC','MSKD','MHHUUR','MHKOOP','MAUT1','MAUT2','MAUT0','MZFONDS','MZPART','MINKM30','MINK3045','MINK4575','MINK7512','MINK123M','MINKGEM','MKOOPKLA','PWAPART','PWABEDR','PWALAND','PPERSAUT','PBESAUT','PMOTSCO','PVRAAUT','PAANHANG','PTRACTOR','PWERKT','PBROM','PLEVEN','PPERSONG','PGEZONG','PWAOREG','PBRAND','PZEILPL','PPLEZIER','PFIETS','PINBOED','PBYSTAND','AWAPART','AWABEDR','AWALAND','APERSAUT','ABESAUT','AMOTSCO','AVRAAUT','AAANHANG','ATRACTOR','AWERKT','ABROM','ALEVEN','APERSONG','AGEZONG','AWAOREG','ABRAND','AZEILPL','APLEZIER','AFIETS','AINBOED','ABYSTAND')\n",
    "names(df.eval.initial)=cols.eval.initial"
   ]
  },
  {
   "cell_type": "markdown",
   "metadata": {},
   "source": [
    "##### Check the correspondings between categorical values"
   ]
  },
  {
   "cell_type": "markdown",
   "metadata": {},
   "source": [
    "Before generating dummied predictors, confirm that the categorical variables in `ticeval2000.txt` have the same values sets with `ticdata2000.txt`.\n",
    "\n",
    "For example, if overlook that the variable `MOSTYPE15` exits in `ticeval2000.txt` but it does not exist in `ticdata2000.txt`, it results in the mismatch of those features and leads to the problem."
   ]
  },
  {
   "cell_type": "code",
   "execution_count": 186,
   "metadata": {},
   "outputs": [
    {
     "data": {
      "text/html": [
       "TRUE"
      ],
      "text/latex": [
       "TRUE"
      ],
      "text/markdown": [
       "TRUE"
      ],
      "text/plain": [
       "[1] TRUE"
      ]
     },
     "metadata": {},
     "output_type": "display_data"
    },
    {
     "data": {
      "text/html": [
       "TRUE"
      ],
      "text/latex": [
       "TRUE"
      ],
      "text/markdown": [
       "TRUE"
      ],
      "text/plain": [
       "[1] TRUE"
      ]
     },
     "metadata": {},
     "output_type": "display_data"
    }
   ],
   "source": [
    "# Check each categorical value set is equal\n",
    "setequal(sort(unique(df[,\"MOSTYPE\"])), sort(unique(df.eval.initial[,\"MOSTYPE\"])))\n",
    "setequal(sort(unique(df[,\"MOSHOOFD\"])), sort(unique(df.eval.initial[,\"MOSHOOFD\"])))"
   ]
  },
  {
   "cell_type": "markdown",
   "metadata": {},
   "source": [
    "There is no non-corresponding values."
   ]
  },
  {
   "cell_type": "markdown",
   "metadata": {},
   "source": [
    "##### Generate dummied variables for evaluation data"
   ]
  },
  {
   "cell_type": "code",
   "execution_count": 187,
   "metadata": {},
   "outputs": [],
   "source": [
    "# factorise 2 categorical but numeric cols\n",
    "MOSTYPE=as.factor(df.eval.initial$MOSTYPE)\n",
    "MOSHOOFD=as.factor(df.eval.initial$MOSHOOFD)\n",
    "# dummying and store into eval data frame\n",
    "df.eval.dm=cbind(df.eval.initial, dummy.data.frame(data.frame(MOSTYPE, MOSHOOFD)))\n",
    "# drop duplicated cols\n",
    "df.eval.dm=df.eval.dm[, -which (colnames(df.eval.dm) %in% c(\"MOSTYPE\",\"MOSHOOFD\",\"MOSHOOFD10\",\"MOSTYPE41\"))]"
   ]
  },
  {
   "cell_type": "markdown",
   "metadata": {},
   "source": [
    "##### Filter predictors into ones chosen based on the result of subset selection"
   ]
  },
  {
   "cell_type": "code",
   "execution_count": 188,
   "metadata": {},
   "outputs": [],
   "source": [
    "df.eval.minbc=df.eval.dm[,setdiff(cols.subsets.minbic,\"CARAVAN\")]"
   ]
  },
  {
   "cell_type": "markdown",
   "metadata": {},
   "source": [
    "### Prediction  based on the evaluation data"
   ]
  },
  {
   "cell_type": "markdown",
   "metadata": {},
   "source": [
    "The Model based on `ticdata2000.txt` is already created as below while performing the subset selection \n",
    "\n",
    "`fit.glm.minbic = glm(fit.glm$formula, data = df.dm[cols.subsets.minbic], family = binomial)`"
   ]
  },
  {
   "cell_type": "code",
   "execution_count": 189,
   "metadata": {},
   "outputs": [],
   "source": [
    "pred.eval.minbic=predict(fit.glm.minbic, newdata=df.eval.minbc, newtype = \"response\")"
   ]
  },
  {
   "cell_type": "markdown",
   "metadata": {},
   "source": [
    "### Measure the accuracy\n",
    "\n",
    "Measure the accuracy based on the idea below.\n",
    "\n",
    "<i>Let $\\alpha$ be the 800 customers who are most likely to have a caravan policy,</i>\n",
    "\n",
    "<i>and let $\\beta$ be the number of customers who were actually a caravan policyholder.</i>\n",
    "\n",
    "<i>Then, accuracy is $\\frac{\\beta}{\\alpha}$.</i>"
   ]
  },
  {
   "cell_type": "markdown",
   "metadata": {},
   "source": [
    "##### Define the function giving the accuracy of a evaluation model "
   ]
  },
  {
   "cell_type": "code",
   "execution_count": 190,
   "metadata": {},
   "outputs": [],
   "source": [
    "get_eval_accuracy=function(pred, labels){\n",
    "    # number of caravan policyholder in labels\n",
    "    nholders=sum(labels==1)\n",
    "    # number to pick up\n",
    "    denominator=round(length(labels)*0.2)\n",
    "    # calculate the accuracy\n",
    "    df.rank=data.frame(CARAVAN=labels,rank=rank(-pred), prob=pred)\n",
    "    holder.tgt=nrow(df.rank[(df.rank[,\"rank\"]<=denominator) & (df.rank[,\"CARAVAN\"]==1),])\n",
    "    denominator=round(length(labels)*0.2)\n",
    "    result=round(holder.tgt/denominator,3)\n",
    "    data.frame(observations=length(labels),\n",
    "               whole_holders=nholders,\n",
    "               mostlikely=denominator,\n",
    "               detected_holders=holder.tgt,\n",
    "               accuracy=result)\n",
    "}"
   ]
  },
  {
   "cell_type": "markdown",
   "metadata": {},
   "source": [
    "##### Reading target data"
   ]
  },
  {
   "cell_type": "code",
   "execution_count": 191,
   "metadata": {
    "scrolled": true
   },
   "outputs": [],
   "source": [
    "targets = read.delim(sep = \"\\t\", file = \"./data/tictgts2000.txt\")[,1]"
   ]
  },
  {
   "cell_type": "markdown",
   "metadata": {},
   "source": [
    "##### Calculate the accuracy"
   ]
  },
  {
   "cell_type": "code",
   "execution_count": 192,
   "metadata": {
    "scrolled": true
   },
   "outputs": [
    {
     "data": {
      "text/html": [
       "<table>\n",
       "<caption>A data.frame: 1 × 5</caption>\n",
       "<thead>\n",
       "\t<tr><th scope=col>observations</th><th scope=col>whole_holders</th><th scope=col>mostlikely</th><th scope=col>detected_holders</th><th scope=col>accuracy</th></tr>\n",
       "\t<tr><th scope=col>&lt;int&gt;</th><th scope=col>&lt;int&gt;</th><th scope=col>&lt;dbl&gt;</th><th scope=col>&lt;int&gt;</th><th scope=col>&lt;dbl&gt;</th></tr>\n",
       "</thead>\n",
       "<tbody>\n",
       "\t<tr><td>3999</td><td>238</td><td>800</td><td>101</td><td>0.126</td></tr>\n",
       "</tbody>\n",
       "</table>\n"
      ],
      "text/latex": [
       "A data.frame: 1 × 5\n",
       "\\begin{tabular}{r|lllll}\n",
       " observations & whole\\_holders & mostlikely & detected\\_holders & accuracy\\\\\n",
       " <int> & <int> & <dbl> & <int> & <dbl>\\\\\n",
       "\\hline\n",
       "\t 3999 & 238 & 800 & 101 & 0.126\\\\\n",
       "\\end{tabular}\n"
      ],
      "text/markdown": [
       "\n",
       "A data.frame: 1 × 5\n",
       "\n",
       "| observations &lt;int&gt; | whole_holders &lt;int&gt; | mostlikely &lt;dbl&gt; | detected_holders &lt;int&gt; | accuracy &lt;dbl&gt; |\n",
       "|---|---|---|---|---|\n",
       "| 3999 | 238 | 800 | 101 | 0.126 |\n",
       "\n"
      ],
      "text/plain": [
       "  observations whole_holders mostlikely detected_holders accuracy\n",
       "1 3999         238           800        101              0.126   "
      ]
     },
     "metadata": {},
     "output_type": "display_data"
    }
   ],
   "source": [
    "get_eval_accuracy(pred.eval.minbic, targets)"
   ]
  },
  {
   "cell_type": "markdown",
   "metadata": {},
   "source": [
    "##### Findings\n",
    "The evaluation model would be overfitting to the training data of `ticdata2000.txt` because the accuracy based on the evaluation data `ticeval2000.txt` shows the lower accuracy than the training data."
   ]
  },
  {
   "cell_type": "markdown",
   "metadata": {},
   "source": [
    "### Summary  (subset selection + logistic regression)"
   ]
  },
  {
   "cell_type": "markdown",
   "metadata": {},
   "source": [
    "- 8 predictors are chosen by subset selection\n",
    "\n",
    "- All of the predictors are significant except MOSTYPE8\n",
    "\n",
    "- Accuracy of evaluation data is 0.126\n",
    "\n",
    "- Mean of accuracies given by cross-validation is 0.164, the variance is 0.00078"
   ]
  },
  {
   "cell_type": "markdown",
   "metadata": {},
   "source": [
    "# Second Model"
   ]
  },
  {
   "cell_type": "markdown",
   "metadata": {},
   "source": [
    "# Lasso Logistic Regression"
   ]
  },
  {
   "cell_type": "markdown",
   "metadata": {},
   "source": [
    "### Analysing the changing coefficients in accordance with lambda"
   ]
  },
  {
   "cell_type": "markdown",
   "metadata": {},
   "source": [
    "##### Fitting the training data `ticdata2000.txt`"
   ]
  },
  {
   "cell_type": "code",
   "execution_count": 193,
   "metadata": {},
   "outputs": [],
   "source": [
    "library(glmnet)"
   ]
  },
  {
   "cell_type": "code",
   "execution_count": 194,
   "metadata": {},
   "outputs": [],
   "source": [
    "# prepare the fitted data\n",
    "modelmat.lasso=model.matrix(fit.glm$formula, data = df.subsetbase)[,-1] # [,-1] is to removes intercept\n",
    "# fitting\n",
    "fit.lasso=glmnet(x=modelmat.lasso,y=df.subsetbase[,\"CARAVAN\"], alpha=1, family='binomial')"
   ]
  },
  {
   "cell_type": "markdown",
   "metadata": {},
   "source": [
    "##### Plot how coefficients of predictors change in accordance with lambda"
   ]
  },
  {
   "cell_type": "code",
   "execution_count": 195,
   "metadata": {},
   "outputs": [
    {
     "data": {
      "image/png": "[encoded data removed]",
      "text/plain": [
       "plot without title"
      ]
     },
     "metadata": {},
     "output_type": "display_data"
    }
   ],
   "source": [
    "options(repr.plot.width=8,repr.plot.height=5)\n",
    "plot(fit.lasso, xvar=\"lambda\",label = TRUE)"
   ]
  },
  {
   "cell_type": "markdown",
   "metadata": {},
   "source": [
    "Note: the figures across the top are the number of nonzero coefficient predictors."
   ]
  },
  {
   "cell_type": "markdown",
   "metadata": {},
   "source": [
    "##### Count the number of non-zero coefficients where log lambda is -5"
   ]
  },
  {
   "cell_type": "code",
   "execution_count": 196,
   "metadata": {},
   "outputs": [
    {
     "data": {
      "text/html": [
       "15"
      ],
      "text/latex": [
       "15"
      ],
      "text/markdown": [
       "15"
      ],
      "text/plain": [
       "[1] 15"
      ]
     },
     "metadata": {},
     "output_type": "display_data"
    }
   ],
   "source": [
    "# count the number of non-zero coefficients where log lambda is -5\n",
    "data.frame(no=attr(coef(fit.lasso, s = exp(-5)),\"i\"), coef=attr(coef(fit.lasso, s = exp(-5)),\"x\")) %>% subset(coef > 0) %>% nrow-1 # minus the intercept"
   ]
  },
  {
   "cell_type": "markdown",
   "metadata": {},
   "source": [
    "##### Findings\n",
    "\n",
    "- Overall, when the lambda increases, the number of predictors decreases\n",
    "\n",
    "- It could be said that penalising does works\n",
    "\n",
    "- For example, the number of non-zero coefficients where $log(\\lambda)=-5$ is 15 predictors"
   ]
  },
  {
   "cell_type": "markdown",
   "metadata": {},
   "source": [
    "### Cross Validation to figure out the best hyper parameter lambda"
   ]
  },
  {
   "cell_type": "markdown",
   "metadata": {},
   "source": [
    "Next, figure out the appropriate number of lambda based on indicators which cross-validation gives.\n",
    "\n",
    "In this section, 10 fold cross validation is adopted."
   ]
  },
  {
   "cell_type": "markdown",
   "metadata": {},
   "source": [
    "##### Fitting with cv"
   ]
  },
  {
   "cell_type": "code",
   "execution_count": 197,
   "metadata": {},
   "outputs": [],
   "source": [
    "# Use 10 fold, which is the default method for cv.glmnet()\n",
    "# 20 fold has been tried but lambda.min was unchanged, so, 10 fold is enough for here\n",
    "cvfit.lasso=cv.glmnet(modelmat.lasso,y=df.subsetbase[,\"CARAVAN\"], alpha=1, family='binomial')"
   ]
  },
  {
   "cell_type": "markdown",
   "metadata": {},
   "source": [
    "##### Plot the result\n",
    "Check the changing deviance while lambda is increasing"
   ]
  },
  {
   "cell_type": "code",
   "execution_count": 198,
   "metadata": {},
   "outputs": [
    {
     "data": {
      "image/png": "[encoded data removed]",
      "text/plain": [
       "plot without title"
      ]
     },
     "metadata": {},
     "output_type": "display_data"
    }
   ],
   "source": [
    "options(repr.plot.width=6,repr.plot.height=4)\n",
    "plot(cvfit.lasso)"
   ]
  },
  {
   "cell_type": "markdown",
   "metadata": {},
   "source": [
    "##### Show the optimum lambda and the number of vairables correponding to lambda"
   ]
  },
  {
   "cell_type": "code",
   "execution_count": 199,
   "metadata": {},
   "outputs": [
    {
     "data": {
      "text/html": [
       "0.00304447795389617"
      ],
      "text/latex": [
       "0.00304447795389617"
      ],
      "text/markdown": [
       "0.00304447795389617"
      ],
      "text/plain": [
       "[1] 0.003044478"
      ]
     },
     "metadata": {},
     "output_type": "display_data"
    },
    {
     "data": {
      "text/html": [
       "0.0214781900649984"
      ],
      "text/latex": [
       "0.0214781900649984"
      ],
      "text/markdown": [
       "0.0214781900649984"
      ],
      "text/plain": [
       "[1] 0.02147819"
      ]
     },
     "metadata": {},
     "output_type": "display_data"
    },
    {
     "data": {
      "text/html": [
       "43"
      ],
      "text/latex": [
       "43"
      ],
      "text/markdown": [
       "43"
      ],
      "text/plain": [
       "[1] 43"
      ]
     },
     "metadata": {},
     "output_type": "display_data"
    },
    {
     "data": {
      "text/html": [
       "4"
      ],
      "text/latex": [
       "4"
      ],
      "text/markdown": [
       "4"
      ],
      "text/plain": [
       "[1] 4"
      ]
     },
     "metadata": {},
     "output_type": "display_data"
    }
   ],
   "source": [
    "# show lambda where the deviance is minimum\n",
    "cvfit.lasso$lambda.min\n",
    "cvfit.lasso$lambda.1se\n",
    "# count the number of non-zero coefficients where the lambda is min, 1se\n",
    "data.frame(no=attr(coef(fit.lasso, s = cvfit.lasso$lambda.min),\"i\"), coef=attr(coef(fit.lasso, s = cvfit.lasso$lambda.min),\"x\")) %>% subset(abs(coef) > 0) %>% nrow-1 # minus the intercept\n",
    "data.frame(no=attr(coef(fit.lasso, s = cvfit.lasso$lambda.1se),\"i\"), coef=attr(coef(fit.lasso, s = cvfit.lasso$lambda.1se),\"x\")) %>% subset(abs(coef) > 0) %>% nrow-1 # minus the intercept"
   ]
  },
  {
   "cell_type": "markdown",
   "metadata": {},
   "source": [
    "##### Findings 1\n",
    "\n",
    "- There is a minimum deviance point where $\\lambda \\approx0.0025$.\n",
    "\n",
    "- The number of predictors at the lambda is 47.\n",
    "\n",
    "##### Findings 2\n",
    "\n",
    "- There is the 1se deviance point from the minimum where $\\lambda \\approx0.0123$.\n",
    "\n",
    "- The number of predictors at the lambda is 10."
   ]
  },
  {
   "cell_type": "markdown",
   "metadata": {},
   "source": [
    "### Cross Validation to measure the accuracy"
   ]
  },
  {
   "cell_type": "markdown",
   "metadata": {},
   "source": [
    "Both $\\lambda$ giving the minimum deviance and the 1se-deviance could be the candidates of a hyperparameter which produce the best accuracy.\n",
    "\n",
    "Hence, try both parameters in this section."
   ]
  },
  {
   "cell_type": "markdown",
   "metadata": {},
   "source": [
    "##### Define the function performing the k-fold cross validation and return the results of predictions"
   ]
  },
  {
   "cell_type": "code",
   "execution_count": 200,
   "metadata": {},
   "outputs": [],
   "source": [
    "library(\"caret\")\n",
    "cv_kfold_lasso=function(kfold, lambda){\n",
    "    folds=createFolds(df.subsetbase[,\"CARAVAN\"],k=kfold)\n",
    "    preds.lasso=list()\n",
    "    labels.lasso=list()\n",
    "    fits.lasso=list()\n",
    "\n",
    "    for (i in seq(1,kfold)){\n",
    "        # define train and test predictors\n",
    "        train_cols=setdiff(cols.subsetbase, \"CARAVAN\")\n",
    "        # define train and test data frames\n",
    "        train_data  =data.matrix(df.subsetbase[-folds[[i]],train_cols])\n",
    "        train_labels=df.subsetbase[-folds[[i]],\"CARAVAN\"]\n",
    "        test_data   =data.matrix(df.subsetbase[ folds[[i]],train_cols])\n",
    "        test_labels =df.subsetbase[ folds[[i]],\"CARAVAN\"]\n",
    "        # fitting\n",
    "        fit=glmnet(x=train_data, y=train_labels, alpha=1, family='binomial', lambda=lambda)\n",
    "        # store results into lists\n",
    "        pred=predict(fit, newx=test_data)\n",
    "        preds.lasso[[i]]=as.numeric(pred)\n",
    "        labels.lasso[[i]]=test_labels\n",
    "        fits.lasso[[i]]=fit\n",
    "    }\n",
    "    list(preds.lasso, labels.lasso, fits.lasso)\n",
    "}"
   ]
  },
  {
   "cell_type": "markdown",
   "metadata": {},
   "source": [
    "##### CV by `lambda.min`"
   ]
  },
  {
   "cell_type": "code",
   "execution_count": 201,
   "metadata": {},
   "outputs": [],
   "source": [
    "results_min=cv_kfold_lasso(kfold = 10, lambda=cvfit.lasso$lambda.min)"
   ]
  },
  {
   "cell_type": "markdown",
   "metadata": {},
   "source": [
    "##### Issue when executing `cv_kfold_lasso` with `lambda.min`\n",
    "\n",
    "This execution sometimes get the warning message below;\n",
    "\n",
    "<p style=\"background-color: #fdd;\">Convergence for 1th lambda value not reached after maxit=100000 iterations; solutions for larger \n",
    " lambdas returned </p>\n",
    "\n",
    "It occurs when `glmnet()` is executed because lambda.min is too low to convergent.\n",
    "\n",
    "There are 2 solutions to this issue;\n",
    "\n",
    "1. Use a larger lambda as the message suggests, such as lambda.1se\n",
    "\n",
    "2. Use a model fitted by cv.glmnet() according to [a forum](https://stats.stackexchange.com/questions/101101/convergence-for-1st-lambda-value-not-reached-error-using-glmnet-package-and-sp)\n",
    "\n",
    "However, the 2nd solution is not appropriate since a model fitted by cv.glmnet() contains a whole training data. For cross-validation, data for testing should not be involved in the model.\n",
    "\n",
    "Hence, **the lambda of 1se is adopted in the later section**."
   ]
  },
  {
   "cell_type": "markdown",
   "metadata": {},
   "source": [
    "##### Predicting and measure the accuracy based on `lambda.1se`"
   ]
  },
  {
   "cell_type": "code",
   "execution_count": 202,
   "metadata": {},
   "outputs": [
    {
     "name": "stdout",
     "output_type": "stream",
     "text": [
      "[1] \"Accuracy mean is 0.114\"\n",
      "[1] \"Accuracy variance is 0.00151\"\n"
     ]
    },
    {
     "data": {
      "text/html": [
       "<table>\n",
       "<caption>A data.frame: 10 × 5</caption>\n",
       "<thead>\n",
       "\t<tr><th scope=col>one_fold</th><th scope=col>whole_holders</th><th scope=col>mostlikely</th><th scope=col>detected_holders</th><th scope=col>accuracy</th></tr>\n",
       "\t<tr><th scope=col>&lt;int&gt;</th><th scope=col>&lt;int&gt;</th><th scope=col>&lt;dbl&gt;</th><th scope=col>&lt;int&gt;</th><th scope=col>&lt;dbl&gt;</th></tr>\n",
       "</thead>\n",
       "<tbody>\n",
       "\t<tr><td>582</td><td>30</td><td>116</td><td>17</td><td>0.147</td></tr>\n",
       "\t<tr><td>583</td><td>35</td><td>117</td><td>19</td><td>0.162</td></tr>\n",
       "\t<tr><td>582</td><td>38</td><td>116</td><td>14</td><td>0.121</td></tr>\n",
       "\t<tr><td>582</td><td>41</td><td>116</td><td>17</td><td>0.147</td></tr>\n",
       "\t<tr><td>582</td><td>35</td><td>116</td><td> 6</td><td>0.052</td></tr>\n",
       "\t<tr><td>582</td><td>32</td><td>116</td><td>13</td><td>0.112</td></tr>\n",
       "\t<tr><td>582</td><td>38</td><td>116</td><td>14</td><td>0.121</td></tr>\n",
       "\t<tr><td>582</td><td>39</td><td>116</td><td> 6</td><td>0.052</td></tr>\n",
       "\t<tr><td>582</td><td>30</td><td>116</td><td>10</td><td>0.086</td></tr>\n",
       "\t<tr><td>582</td><td>30</td><td>116</td><td>16</td><td>0.138</td></tr>\n",
       "</tbody>\n",
       "</table>\n"
      ],
      "text/latex": [
       "A data.frame: 10 × 5\n",
       "\\begin{tabular}{r|lllll}\n",
       " one\\_fold & whole\\_holders & mostlikely & detected\\_holders & accuracy\\\\\n",
       " <int> & <int> & <dbl> & <int> & <dbl>\\\\\n",
       "\\hline\n",
       "\t 582 & 30 & 116 & 17 & 0.147\\\\\n",
       "\t 583 & 35 & 117 & 19 & 0.162\\\\\n",
       "\t 582 & 38 & 116 & 14 & 0.121\\\\\n",
       "\t 582 & 41 & 116 & 17 & 0.147\\\\\n",
       "\t 582 & 35 & 116 &  6 & 0.052\\\\\n",
       "\t 582 & 32 & 116 & 13 & 0.112\\\\\n",
       "\t 582 & 38 & 116 & 14 & 0.121\\\\\n",
       "\t 582 & 39 & 116 &  6 & 0.052\\\\\n",
       "\t 582 & 30 & 116 & 10 & 0.086\\\\\n",
       "\t 582 & 30 & 116 & 16 & 0.138\\\\\n",
       "\\end{tabular}\n"
      ],
      "text/markdown": [
       "\n",
       "A data.frame: 10 × 5\n",
       "\n",
       "| one_fold &lt;int&gt; | whole_holders &lt;int&gt; | mostlikely &lt;dbl&gt; | detected_holders &lt;int&gt; | accuracy &lt;dbl&gt; |\n",
       "|---|---|---|---|---|\n",
       "| 582 | 30 | 116 | 17 | 0.147 |\n",
       "| 583 | 35 | 117 | 19 | 0.162 |\n",
       "| 582 | 38 | 116 | 14 | 0.121 |\n",
       "| 582 | 41 | 116 | 17 | 0.147 |\n",
       "| 582 | 35 | 116 |  6 | 0.052 |\n",
       "| 582 | 32 | 116 | 13 | 0.112 |\n",
       "| 582 | 38 | 116 | 14 | 0.121 |\n",
       "| 582 | 39 | 116 |  6 | 0.052 |\n",
       "| 582 | 30 | 116 | 10 | 0.086 |\n",
       "| 582 | 30 | 116 | 16 | 0.138 |\n",
       "\n"
      ],
      "text/plain": [
       "   one_fold whole_holders mostlikely detected_holders accuracy\n",
       "1  582      30            116        17               0.147   \n",
       "2  583      35            117        19               0.162   \n",
       "3  582      38            116        14               0.121   \n",
       "4  582      41            116        17               0.147   \n",
       "5  582      35            116         6               0.052   \n",
       "6  582      32            116        13               0.112   \n",
       "7  582      38            116        14               0.121   \n",
       "8  582      39            116         6               0.052   \n",
       "9  582      30            116        10               0.086   \n",
       "10 582      30            116        16               0.138   "
      ]
     },
     "metadata": {},
     "output_type": "display_data"
    }
   ],
   "source": [
    "results_1se=cv_kfold_lasso(kfold = 10, lambda=cvfit.lasso$lambda.1se)\n",
    "get_cv_accuracy(preds = results_1se[[1]], tests = results_1se[[2]])"
   ]
  },
  {
   "cell_type": "markdown",
   "metadata": {},
   "source": [
    "### Confirm the coefficients chosen by `lambda.1se`"
   ]
  },
  {
   "cell_type": "markdown",
   "metadata": {},
   "source": [
    "By executing `coef(cvfit.lasso, s = \"lambda.1se\")`, the predictor list and their coefficients are extracted as below;"
   ]
  },
  {
   "cell_type": "markdown",
   "metadata": {},
   "source": [
    "| variable    | description                        | coefficient |\n",
    "|-------------|------------------------------------|-------------|\n",
    "| (Intercept) | -                                  | -3.4716     |\n",
    "| MRELGE      | Married                            | 0.0052      |\n",
    "| MOPLHOOG    | High level education               | 0.0060      |\n",
    "| MOPLLAAG    | Lower level education              | -0.0278     |\n",
    "| MAUT1       | 1 car                              | 0.0024      |\n",
    "| MINKGEM     | Average income                     | 0.0372      |\n",
    "| MKOOPKLA    | Purchasing power class             | 0.0371      |\n",
    "| AWAPART     | # of private third party insurance | 0.2212      |\n",
    "| APERSAUT    | # of car policies                  | 0.5171      |\n",
    "| APLEZIER    | # of boat policies                 | 1.1687      |\n",
    "| MOSTYPE8    | Middle class families              | 0.3339      |\n",
    "\n",
    "##### Findings\n",
    "\n",
    "- The number of boat policies is far larger than other features\n",
    "- All of the predictors have positive coefficients except lower level education"
   ]
  },
  {
   "cell_type": "markdown",
   "metadata": {},
   "source": [
    "### Measure the accuracy of evaluation data  (Lasso Regression)"
   ]
  },
  {
   "cell_type": "markdown",
   "metadata": {},
   "source": [
    "In this section, do the prediction based on the evaluation data by the Lasso model.\n",
    "\n",
    "The input data for prediction is `ticeval2000.txt` and the corresponding label data is `tictgts2000.txt`."
   ]
  },
  {
   "cell_type": "markdown",
   "metadata": {},
   "source": [
    "##### Data Preparation"
   ]
  },
  {
   "cell_type": "markdown",
   "metadata": {},
   "source": [
    "Prepare the data frame based on `ticeval2000.txt` and then filter predictors into the same ones used in CV."
   ]
  },
  {
   "cell_type": "code",
   "execution_count": 203,
   "metadata": {},
   "outputs": [],
   "source": [
    "cols=setdiff(cols.subsetbase, \"CARAVAN\")\n",
    "xmat.eval.lasso=data.matrix(df.eval.dm[cols])"
   ]
  },
  {
   "cell_type": "markdown",
   "metadata": {},
   "source": [
    "##### Prediction by lambda.1se\n",
    "The Model based on the whole data of `ticdata2000.txt` is already created as below while doing cross-validation.\n",
    "\n",
    "`cvfit.lasso=cv.glmnet()`\n",
    "\n",
    "Doing prediction by this model and the evaluation data."
   ]
  },
  {
   "cell_type": "code",
   "execution_count": 204,
   "metadata": {},
   "outputs": [],
   "source": [
    "pred.eval.lasso.1se=predict(cvfit.lasso, newx=xmat.eval.lasso, newtype = \"response\", s = \"lambda.1se\")"
   ]
  },
  {
   "cell_type": "markdown",
   "metadata": {},
   "source": [
    "##### Measure the accuracy"
   ]
  },
  {
   "cell_type": "code",
   "execution_count": 205,
   "metadata": {},
   "outputs": [
    {
     "data": {
      "text/html": [
       "<table>\n",
       "<caption>A data.frame: 1 × 5</caption>\n",
       "<thead>\n",
       "\t<tr><th scope=col>observations</th><th scope=col>whole_holders</th><th scope=col>mostlikely</th><th scope=col>detected_holders</th><th scope=col>accuracy</th></tr>\n",
       "\t<tr><th scope=col>&lt;int&gt;</th><th scope=col>&lt;int&gt;</th><th scope=col>&lt;dbl&gt;</th><th scope=col>&lt;int&gt;</th><th scope=col>&lt;dbl&gt;</th></tr>\n",
       "</thead>\n",
       "<tbody>\n",
       "\t<tr><td>3999</td><td>238</td><td>800</td><td>91</td><td>0.114</td></tr>\n",
       "</tbody>\n",
       "</table>\n"
      ],
      "text/latex": [
       "A data.frame: 1 × 5\n",
       "\\begin{tabular}{r|lllll}\n",
       " observations & whole\\_holders & mostlikely & detected\\_holders & accuracy\\\\\n",
       " <int> & <int> & <dbl> & <int> & <dbl>\\\\\n",
       "\\hline\n",
       "\t 3999 & 238 & 800 & 91 & 0.114\\\\\n",
       "\\end{tabular}\n"
      ],
      "text/markdown": [
       "\n",
       "A data.frame: 1 × 5\n",
       "\n",
       "| observations &lt;int&gt; | whole_holders &lt;int&gt; | mostlikely &lt;dbl&gt; | detected_holders &lt;int&gt; | accuracy &lt;dbl&gt; |\n",
       "|---|---|---|---|---|\n",
       "| 3999 | 238 | 800 | 91 | 0.114 |\n",
       "\n"
      ],
      "text/plain": [
       "  observations whole_holders mostlikely detected_holders accuracy\n",
       "1 3999         238           800        91               0.114   "
      ]
     },
     "metadata": {},
     "output_type": "display_data"
    }
   ],
   "source": [
    "get_eval_accuracy(pred.eval.lasso.1se, targets)"
   ]
  },
  {
   "cell_type": "markdown",
   "metadata": {},
   "source": [
    "### Summary where lambda is `lambda.1se`"
   ]
  },
  {
   "cell_type": "markdown",
   "metadata": {},
   "source": [
    "- The number of predictors is 10\n",
    "\n",
    "- The mean of accuracies of CV is 0.157 and its variance is 0.00091\n",
    "\n",
    "- The accuracy based on the evaluation data is 0.13"
   ]
  },
  {
   "cell_type": "markdown",
   "metadata": {},
   "source": [
    "# Third model\n",
    "# Linear Discriminant Analysis"
   ]
  },
  {
   "cell_type": "markdown",
   "metadata": {},
   "source": [
    "Based on the findings in the previous exploration, the predictors below are used for prediction.\n",
    "\n",
    "1. MOPLLAAG - Lower level education\n",
    "2. MBERARBG - Skilled labourers\n",
    "3. MBERHOOG - High status\n",
    "4. MSKC - Social class C\n",
    "5. MINK4575 - Income 45-75.000\n",
    "6. MINKGEM - Average income\n",
    "7. MKOOPKLA - Purchasing power class\n",
    "8. MAUT1 - 1 car\n",
    "9. ABRAND - Number of fire policies\n",
    "10. AWAPART - Number of private third party insurance\n",
    "11. APERSAUT - Number of car policies"
   ]
  },
  {
   "cell_type": "markdown",
   "metadata": {},
   "source": [
    "### Cross Validation (LDA)"
   ]
  },
  {
   "cell_type": "markdown",
   "metadata": {},
   "source": [
    "Perform cross-validation to measure the accuracy of the training data.\n"
   ]
  },
  {
   "cell_type": "markdown",
   "metadata": {},
   "source": [
    "##### CV with 10 fold cross validation"
   ]
  },
  {
   "cell_type": "code",
   "execution_count": 206,
   "metadata": {},
   "outputs": [],
   "source": [
    "df.lda=df.dm[c(cols.lda, \"CARAVAN\")]"
   ]
  },
  {
   "cell_type": "code",
   "execution_count": 207,
   "metadata": {},
   "outputs": [],
   "source": [
    "library(\"caret\")\n",
    "library(\"MASS\")\n",
    "kfold=10\n",
    "folds=createFolds(df.lda[,\"CARAVAN\"],k=kfold)\n",
    "preds.lda=list()\n",
    "labels.lda=list()\n",
    "\n",
    "for (i in seq(1,kfold)){\n",
    "    # define train and test predictors\n",
    "    train_cols=setdiff(cols.lda, \"CARAVAN\")\n",
    "    # define train and test data frames\n",
    "    train_data  =df.lda[-folds[[i]],train_cols]\n",
    "    train_labels=df.lda[-folds[[i]],\"CARAVAN\"]\n",
    "    test_data   =df.lda[ folds[[i]],train_cols]\n",
    "    test_labels =df.lda[ folds[[i]],\"CARAVAN\"]\n",
    "    # fitting\n",
    "    fit=lda(x=train_data, grouping=train_labels)\n",
    "    # store results into lists\n",
    "    pred=predict(object=fit, newdata=test_data)\n",
    "    preds.lda[[i]]=pred$x[,\"LD1\"]\n",
    "    labels.lda[[i]]=test_labels\n",
    "}"
   ]
  },
  {
   "cell_type": "markdown",
   "metadata": {},
   "source": [
    "##### Measure the accuracy"
   ]
  },
  {
   "cell_type": "code",
   "execution_count": 208,
   "metadata": {},
   "outputs": [
    {
     "name": "stdout",
     "output_type": "stream",
     "text": [
      "[1] \"Accuracy mean is 0.146\"\n",
      "[1] \"Accuracy variance is 0.00118\"\n"
     ]
    },
    {
     "data": {
      "text/html": [
       "<table>\n",
       "<caption>A data.frame: 10 × 5</caption>\n",
       "<thead>\n",
       "\t<tr><th scope=col>one_fold</th><th scope=col>whole_holders</th><th scope=col>mostlikely</th><th scope=col>detected_holders</th><th scope=col>accuracy</th></tr>\n",
       "\t<tr><th scope=col>&lt;int&gt;</th><th scope=col>&lt;int&gt;</th><th scope=col>&lt;dbl&gt;</th><th scope=col>&lt;int&gt;</th><th scope=col>&lt;dbl&gt;</th></tr>\n",
       "</thead>\n",
       "<tbody>\n",
       "\t<tr><td>583</td><td>39</td><td>117</td><td>12</td><td>0.103</td></tr>\n",
       "\t<tr><td>582</td><td>19</td><td>116</td><td>12</td><td>0.103</td></tr>\n",
       "\t<tr><td>582</td><td>37</td><td>116</td><td>20</td><td>0.172</td></tr>\n",
       "\t<tr><td>582</td><td>28</td><td>116</td><td>16</td><td>0.138</td></tr>\n",
       "\t<tr><td>582</td><td>35</td><td>116</td><td>19</td><td>0.164</td></tr>\n",
       "\t<tr><td>582</td><td>46</td><td>116</td><td>23</td><td>0.198</td></tr>\n",
       "\t<tr><td>582</td><td>41</td><td>116</td><td>22</td><td>0.190</td></tr>\n",
       "\t<tr><td>582</td><td>35</td><td>116</td><td>13</td><td>0.112</td></tr>\n",
       "\t<tr><td>582</td><td>36</td><td>116</td><td>16</td><td>0.138</td></tr>\n",
       "\t<tr><td>582</td><td>32</td><td>116</td><td>17</td><td>0.147</td></tr>\n",
       "</tbody>\n",
       "</table>\n"
      ],
      "text/latex": [
       "A data.frame: 10 × 5\n",
       "\\begin{tabular}{r|lllll}\n",
       " one\\_fold & whole\\_holders & mostlikely & detected\\_holders & accuracy\\\\\n",
       " <int> & <int> & <dbl> & <int> & <dbl>\\\\\n",
       "\\hline\n",
       "\t 583 & 39 & 117 & 12 & 0.103\\\\\n",
       "\t 582 & 19 & 116 & 12 & 0.103\\\\\n",
       "\t 582 & 37 & 116 & 20 & 0.172\\\\\n",
       "\t 582 & 28 & 116 & 16 & 0.138\\\\\n",
       "\t 582 & 35 & 116 & 19 & 0.164\\\\\n",
       "\t 582 & 46 & 116 & 23 & 0.198\\\\\n",
       "\t 582 & 41 & 116 & 22 & 0.190\\\\\n",
       "\t 582 & 35 & 116 & 13 & 0.112\\\\\n",
       "\t 582 & 36 & 116 & 16 & 0.138\\\\\n",
       "\t 582 & 32 & 116 & 17 & 0.147\\\\\n",
       "\\end{tabular}\n"
      ],
      "text/markdown": [
       "\n",
       "A data.frame: 10 × 5\n",
       "\n",
       "| one_fold &lt;int&gt; | whole_holders &lt;int&gt; | mostlikely &lt;dbl&gt; | detected_holders &lt;int&gt; | accuracy &lt;dbl&gt; |\n",
       "|---|---|---|---|---|\n",
       "| 583 | 39 | 117 | 12 | 0.103 |\n",
       "| 582 | 19 | 116 | 12 | 0.103 |\n",
       "| 582 | 37 | 116 | 20 | 0.172 |\n",
       "| 582 | 28 | 116 | 16 | 0.138 |\n",
       "| 582 | 35 | 116 | 19 | 0.164 |\n",
       "| 582 | 46 | 116 | 23 | 0.198 |\n",
       "| 582 | 41 | 116 | 22 | 0.190 |\n",
       "| 582 | 35 | 116 | 13 | 0.112 |\n",
       "| 582 | 36 | 116 | 16 | 0.138 |\n",
       "| 582 | 32 | 116 | 17 | 0.147 |\n",
       "\n"
      ],
      "text/plain": [
       "   one_fold whole_holders mostlikely detected_holders accuracy\n",
       "1  583      39            117        12               0.103   \n",
       "2  582      19            116        12               0.103   \n",
       "3  582      37            116        20               0.172   \n",
       "4  582      28            116        16               0.138   \n",
       "5  582      35            116        19               0.164   \n",
       "6  582      46            116        23               0.198   \n",
       "7  582      41            116        22               0.190   \n",
       "8  582      35            116        13               0.112   \n",
       "9  582      36            116        16               0.138   \n",
       "10 582      32            116        17               0.147   "
      ]
     },
     "metadata": {},
     "output_type": "display_data"
    }
   ],
   "source": [
    "get_cv_accuracy(preds = preds.lda, tests = labels.lda)"
   ]
  },
  {
   "cell_type": "markdown",
   "metadata": {},
   "source": [
    "### Measure the accuracy of evaluation data  (Linear Discriminant Analysis)"
   ]
  },
  {
   "cell_type": "markdown",
   "metadata": {},
   "source": [
    "In this section, do the prediction based on the evaluation data by LDA.\n",
    "\n",
    "The input data for prediction is `ticeval2000.txt` and the corresponding label data is `tictgts2000.txt`."
   ]
  },
  {
   "cell_type": "markdown",
   "metadata": {},
   "source": [
    "##### Fitting\n",
    "Generate the model based on the whole data of `ticdata2000.txt`"
   ]
  },
  {
   "cell_type": "code",
   "execution_count": 209,
   "metadata": {},
   "outputs": [],
   "source": [
    "fit.lda=lda(x=df.lda[cols.lda], grouping=df.dm[,\"CARAVAN\"])"
   ]
  },
  {
   "cell_type": "markdown",
   "metadata": {},
   "source": [
    "##### Have a look the fittied model"
   ]
  },
  {
   "cell_type": "code",
   "execution_count": 210,
   "metadata": {},
   "outputs": [
    {
     "data": {
      "text/plain": [
       "Call:\n",
       "lda(df.lda[cols.lda], grouping = df.dm[, \"CARAVAN\"])\n",
       "\n",
       "Prior probabilities of groups:\n",
       "         0          1 \n",
       "0.94021646 0.05978354 \n",
       "\n",
       "Group means:\n",
       "  MOPLLAAG MBERARBG     MSKC MINK4575  MINKGEM MKOOPKLA    MAUT1 APERSAUT\n",
       "0 4.624520 2.237895 3.778915 2.702905 3.754431 4.188014 6.012607 0.540106\n",
       "1 3.747126 1.928161 3.433908 3.172414 4.255747 5.000000 6.471264 0.908046\n",
       "  MBERHOOG    ABRAND   AWAPART\n",
       "0 1.865704 0.5613009 0.3919240\n",
       "1 2.359195 0.7068966 0.5775862\n",
       "\n",
       "Coefficients of linear discriminants:\n",
       "                 LD1\n",
       "MOPLLAAG -0.13008332\n",
       "MBERARBG -0.03454220\n",
       "MSKC      0.10124422\n",
       "MINK4575 -0.02481472\n",
       "MINKGEM   0.16567077\n",
       "MKOOPKLA  0.11020646\n",
       "MAUT1     0.10699209\n",
       "APERSAUT  1.10232280\n",
       "MBERHOOG  0.04085439\n",
       "ABRAND    0.24769507\n",
       "AWAPART   0.56238007"
      ]
     },
     "metadata": {},
     "output_type": "display_data"
    }
   ],
   "source": [
    "fit.lda"
   ]
  },
  {
   "cell_type": "markdown",
   "metadata": {},
   "source": [
    "##### Data Preparation"
   ]
  },
  {
   "cell_type": "markdown",
   "metadata": {},
   "source": [
    "Prepare the data frame based on `ticeval2000.txt` and then filter predictors into the same ones used in CV."
   ]
  },
  {
   "cell_type": "code",
   "execution_count": 211,
   "metadata": {},
   "outputs": [],
   "source": [
    "df.eval.lda=df.eval.dm[cols.lda]"
   ]
  },
  {
   "cell_type": "markdown",
   "metadata": {},
   "source": [
    "##### Prediction"
   ]
  },
  {
   "cell_type": "code",
   "execution_count": 212,
   "metadata": {},
   "outputs": [],
   "source": [
    "pred.eval.lda=predict(object=fit.lda, newdata=df.eval.lda)$x[,\"LD1\"]"
   ]
  },
  {
   "cell_type": "markdown",
   "metadata": {},
   "source": [
    "##### Measure the accuracy"
   ]
  },
  {
   "cell_type": "code",
   "execution_count": 213,
   "metadata": {},
   "outputs": [
    {
     "data": {
      "text/html": [
       "<table>\n",
       "<caption>A data.frame: 1 × 5</caption>\n",
       "<thead>\n",
       "\t<tr><th scope=col>observations</th><th scope=col>whole_holders</th><th scope=col>mostlikely</th><th scope=col>detected_holders</th><th scope=col>accuracy</th></tr>\n",
       "\t<tr><th scope=col>&lt;int&gt;</th><th scope=col>&lt;int&gt;</th><th scope=col>&lt;dbl&gt;</th><th scope=col>&lt;int&gt;</th><th scope=col>&lt;dbl&gt;</th></tr>\n",
       "</thead>\n",
       "<tbody>\n",
       "\t<tr><td>3999</td><td>238</td><td>800</td><td>108</td><td>0.135</td></tr>\n",
       "</tbody>\n",
       "</table>\n"
      ],
      "text/latex": [
       "A data.frame: 1 × 5\n",
       "\\begin{tabular}{r|lllll}\n",
       " observations & whole\\_holders & mostlikely & detected\\_holders & accuracy\\\\\n",
       " <int> & <int> & <dbl> & <int> & <dbl>\\\\\n",
       "\\hline\n",
       "\t 3999 & 238 & 800 & 108 & 0.135\\\\\n",
       "\\end{tabular}\n"
      ],
      "text/markdown": [
       "\n",
       "A data.frame: 1 × 5\n",
       "\n",
       "| observations &lt;int&gt; | whole_holders &lt;int&gt; | mostlikely &lt;dbl&gt; | detected_holders &lt;int&gt; | accuracy &lt;dbl&gt; |\n",
       "|---|---|---|---|---|\n",
       "| 3999 | 238 | 800 | 108 | 0.135 |\n",
       "\n"
      ],
      "text/plain": [
       "  observations whole_holders mostlikely detected_holders accuracy\n",
       "1 3999         238           800        108              0.135   "
      ]
     },
     "metadata": {},
     "output_type": "display_data"
    }
   ],
   "source": [
    "get_eval_accuracy(pred.eval.lda, targets)"
   ]
  },
  {
   "cell_type": "markdown",
   "metadata": {},
   "source": [
    "### Summary  (Linear Discriminant Analysis)"
   ]
  },
  {
   "cell_type": "markdown",
   "metadata": {},
   "source": [
    "- The number of predictors is 11\n",
    "\n",
    "- The mean of accuracies of CV is 0.149 and its variance is 0.00161\n",
    "\n",
    "- The accuracy based on the evaluation data is 0.135"
   ]
  },
  {
   "cell_type": "markdown",
   "metadata": {},
   "source": [
    "# Model Comparison"
   ]
  },
  {
   "cell_type": "markdown",
   "metadata": {},
   "source": [
    "### Accuracy"
   ]
  },
  {
   "cell_type": "markdown",
   "metadata": {},
   "source": [
    "The summary of accuracies is below.\n",
    "\n",
    "| Indicator                     | Logistic Regression & Subset Selection | Lasso Logistic Regression | Linear Descriminant Analysis |\n",
    "|-------------------------------|----------------------------------------|---------------------------|------------------------------|\n",
    "| Mean Accuracy in CV           | 0.164                                  | 0.157                     | 0.149                        |\n",
    "| Variance of Accuracy in CV    | 0.00078                                | 0.00091                   | 0.00161                      |\n",
    "| Accuracy with Evaluation Data | 0.126                                  | 0.13                      | 0.135                        |"
   ]
  },
  {
   "cell_type": "markdown",
   "metadata": {},
   "source": [
    "The model of Logistic Regression with Subset Selection performs the best accuracy in the cross-validation, whereas the actual accuracy with the evaluation data falls into the lowest accuracy. It indicates that the fitted model would be more overfitting than other models.\n",
    "\n",
    "The performance of Lasso Logistic Regression model is situated in the middle between the other 2 models.\n",
    "\n",
    "The model of LDA performs the smallest accuracy gap between CV and the prediction based on the evaluation data. In addition, it achieves the best accuracy with the evaluation data.\n",
    "\n",
    "In conclusion, in terms of accuracy and its stability, LDA is the best model.\n",
    "\n",
    "In terms of the assumptions which the models have, LDA assuming that variables normally and separately distribute shows a better performance than Logistic Regressions which assume that predictors are correlated with a response variable. At this point, it would be insisted that the properties of features which LDA expects are slightly more directly connecting to the prediction of the actual policyholders than other properties of features which Logistic Regression assume."
   ]
  },
  {
   "cell_type": "markdown",
   "metadata": {},
   "source": [
    "### Feature selection and their coeffients"
   ]
  },
  {
   "cell_type": "markdown",
   "metadata": {},
   "source": [
    "Next, comparing the features which each model selects and their coefficients. The summarised information is shown in the table below.\n",
    "\n",
    "| Data Source       | Variables   | Description                             | Rank of Correlation Ratio | Subset Selection | Lasso  | LDA    |\n",
    "|-------------------|-------------|-----------------------------------------|---------------------------|------------------|--------|--------|\n",
    "| -                 | (Intercept) | -                                       | -                         | -4.061           | -3.472 | -      |\n",
    "| PRODUCT OWNERSHIP | AWAPART     | # of private third party insurance      | 6                         | 0.611            | 0.221  | 0.562  |\n",
    "| PRODUCT OWNERSHIP | ABRAND      | # of fire policies                      | 18                        | -                | -      | 0.248  |\n",
    "| PRODUCT OWNERSHIP | ABYSTAND    | # of social security insurance policies | 13                        | 0.574            | -      | -      |\n",
    "| PRODUCT OWNERSHIP | APERSAUT    | # of car policies                       | 1                         | 0.772            | 0.517  | 1.102  |\n",
    "| PRODUCT OWNERSHIP | APLEZIER    | # of boat policies                      | 2                         | 2.052            | 1.169  | -      |\n",
    "| SOCIO DEMOGRAPHIC | MOSTYPE8    | Middle class families                   | -                         | 0.715            | 0.334  | -      |\n",
    "| SOCIO DEMOGRAPHIC | MOSTYPE12   | Affluent young families                 | -                         | 0.851            | -      | -      |\n",
    "| SOCIO DEMOGRAPHIC | MRELGE      | Married                                 | 11                        | 0.128            | 0.005  | -0.035 |\n",
    "| SOCIO DEMOGRAPHIC | MAUT1       | 1 car                                   | 12                        | -                | 0.002  | 0.107  |\n",
    "| SOCIO DEMOGRAPHIC | MBERARBG    | Skilled labourers                       | 28                        | -                | -      | -      |\n",
    "| SOCIO DEMOGRAPHIC | MOPLLAAG    | Lower level education                   | 4                         | -0.119           | -0.028 | -0.130 |\n",
    "| SOCIO DEMOGRAPHIC | MOPLHOOG    | High level education                    | 7                         | -                | 0.006  | -      |\n",
    "| SOCIO DEMOGRAPHIC | MBERHOOG    | High status                             | 14                        | -                | -      | 0.041  |\n",
    "| SOCIO DEMOGRAPHIC | MSKC        | Social class C                          | 29                        | -                | -      | 0.101  |\n",
    "| SOCIO DEMOGRAPHIC | MINK4575    | Income 45-75.000                        | 20                        | -                | -      | -0.025 |\n",
    "| SOCIO DEMOGRAPHIC | MINKGEM     | Average income                          | 5                         | -                | 0.037  | 0.166  |\n",
    "| SOCIO DEMOGRAPHIC | MKOOPKLA    | Purchasing power class                  | 3                         | -                | 0.037  | 0.110  |"
   ]
  },
  {
   "cell_type": "markdown",
   "metadata": {},
   "source": [
    "Overall, the subset selection chooses the same number of features from product ownership and socio-demographic respectively, whereas Lasso and LDA more choose their features from socio-demographic.\n",
    "\n",
    "In terms of similarity of feature selection, the subset selection is more close to Lasso than LDA. It shares 75% of features with Lasso, whereas 50% with LDA. On the other hand, Lasso is situated in the middle between the subset selection and LDA. It shares 60% of its features with the subset selection, likely, it shares 70% of its features with LDA.\n",
    "\n",
    "When it comes to the taste of the whole selected features, most of them directly or indirectly indicate a factor of a wealth of customers, such as social status, income, purchasing power, education level, the number of boat policies.\n",
    "\n",
    "In terms of relationship between the correlation ratio and the feature selection, subset selection and Lasso select mainly from highly correlated variables to CARAVAN, yet LDA selects relatively less correlated variables compared to other models."
   ]
  },
  {
   "cell_type": "markdown",
   "metadata": {},
   "source": [
    "### Advantages and Disadvantages"
   ]
  },
  {
   "cell_type": "markdown",
   "metadata": {},
   "source": [
    "In terms of the prediction task, LDA shows the best performance. However, the gap in accuracy is not very large. Namely, Logistic Regression based on the subset selection demonstrates 0.126 accuracies, whereas LDA makes 0.135 accuracies. It corresponds to 101 and 108 detected actual caravan policyholder respectively.\n",
    "\n",
    "When it comes to the description task, Logistic Regression with the subset selection has big advantages comparing to other models. Firstly, it has been figured out that most of the selected features are significant. Secondly, unlike LDA, the figure of coefficients directly denote the amount of contribution to the probability that a customer is an actual caravan policyholder.\n",
    "\n",
    "In conclusion, Logistic Regression with the subset selection is the most appropriate model for the description task."
   ]
  },
  {
   "cell_type": "markdown",
   "metadata": {},
   "source": [
    "# Description Task"
   ]
  },
  {
   "cell_type": "markdown",
   "metadata": {},
   "source": [
    "### Predictors having a significant impact"
   ]
  },
  {
   "cell_type": "markdown",
   "metadata": {},
   "source": [
    "As the previous paragraph mentions, this task is performed based on the model of Logistic Regression with the subset selection.\n",
    "\n",
    "The selected features and their coefficients are below;"
   ]
  },
  {
   "cell_type": "markdown",
   "metadata": {},
   "source": [
    "| Data Source       | Variables   | Description                             | Coefficient |\n",
    "|-------------------|-------------|-----------------------------------------|------------------|\n",
    "| -                 | (Intercept) | -                                       | -4.061           |\n",
    "| PRODUCT OWNERSHIP | AWAPART     | # of private third party insurance      | 0.611            |\n",
    "| PRODUCT OWNERSHIP | ABYSTAND    | # of social security insurance policies | 0.574            |\n",
    "| PRODUCT OWNERSHIP | APERSAUT    | # of car policies                       | 0.772            |\n",
    "| PRODUCT OWNERSHIP | APLEZIER    | # of boat policies                      | 2.052            |\n",
    "| SOCIO DEMOGRAPHIC | MOSTYPE8    | Middle class families                   | 0.715            |\n",
    "| SOCIO DEMOGRAPHIC | MOSTYPE12   | Affluent young families                 | 0.851            |\n",
    "| SOCIO DEMOGRAPHIC | MRELGE      | Married                                 | 0.128            |\n",
    "| SOCIO DEMOGRAPHIC | MOPLLAAG    | Lower level education                   | -0.119           |"
   ]
  },
  {
   "cell_type": "markdown",
   "metadata": {},
   "source": [
    "Based on those selected features, the formula to calculate the probability that a customer purchases the caravan policy is denoted as below;\n",
    "\n",
    "$Pr(Caravan = Buy)=(1+\\exp^{-(intercept*0.611*awapart+0.574*abystand+0.772*apersaut+2.052*aplezier+0.715*mostype8+0.851*mostype12+0.128*mrelge-0.119*mopllaag)})^{-1}$\n",
    "\n",
    "A simple interpretation of this formula is that the features having positive coefficients have a positive impact on purchasing the caravan policy. In addition, the size of the coefficient corresponds to the magnitude of the impact. \n",
    "\n",
    "From those views, `the number of boat policies` has the biggest impact on the customer's behaviour. However, the number of customers who actually have that policy also should be considered. Otherwise, fewer customers will be approached by the marketing department. The histograms showing the frequency of the number of policies are below;"
   ]
  },
  {
   "cell_type": "code",
   "execution_count": 451,
   "metadata": {},
   "outputs": [
    {
     "data": {
      "image/png": "[encoded data removed]",
      "text/plain": [
       "plot without title"
      ]
     },
     "metadata": {},
     "output_type": "display_data"
    }
   ],
   "source": [
    "vec.AWAPART=df.dm.holder[df.dm.holder[,\"AWAPART\"]>0,\"AWAPART\"]\n",
    "vec.ABYSTAND=df.dm.holder[df.dm.holder[,\"ABYSTAND\"]>0,\"ABYSTAND\"]\n",
    "vec.APERSAUT=df.dm.holder[df.dm.holder[,\"APERSAUT\"]>0,\"APERSAUT\"]\n",
    "vec.APLEZIER=df.dm.holder[df.dm.holder[,\"APLEZIER\"]>0,\"APLEZIER\"]\n",
    "plots.hist.plc=list()\n",
    "plots.hist.plc[[1]]=ggplot()+geom_histogram(aes(x=vec.AWAPART),breaks=seq(1,10))+labs(x =\"AWAPART\")\n",
    "plots.hist.plc[[2]]=ggplot()+geom_histogram(aes(x=vec.ABYSTAND),breaks=seq(1,10))+labs(x =\"ABYSTAND\")\n",
    "plots.hist.plc[[3]]=ggplot()+geom_histogram(aes(x=vec.APERSAUT),breaks=seq(1,10))+labs(x =\"APERSAUT\")\n",
    "plots.hist.plc[[4]]=ggplot()+geom_histogram(aes(x=vec.APLEZIER),breaks=seq(1,10))+labs(x =\"APLEZIER\")\n",
    "# Draw the plots\n",
    "options(repr.plot.width=6,repr.plot.height=2)\n",
    "library(gridExtra)\n",
    "do.call(\"grid.arrange\", c(plots.hist.plc, ncol=4))"
   ]
  },
  {
   "cell_type": "markdown",
   "metadata": {},
   "source": [
    "Although APLEZIER (the number of boat policies) has the largest magnitude of coefficient, its frequency is very low compared to AWAPART (the number of private third party insurance) and APERSAUT (the number of car policies). The same perspective can be applied to other features."
   ]
  },
  {
   "cell_type": "code",
   "execution_count": 453,
   "metadata": {},
   "outputs": [
    {
     "data": {
      "image/png": "[encoded data removed]",
      "text/plain": [
       "plot without title"
      ]
     },
     "metadata": {},
     "output_type": "display_data"
    }
   ],
   "source": [
    "vec.MOSTYPE8=df.dm.holder[df.dm.holder[,\"MOSTYPE8\"]>0,\"MOSTYPE8\"]\n",
    "vec.MOSTYPE12=df.dm.holder[df.dm.holder[,\"MOSTYPE12\"]>0,\"MOSTYPE12\"]\n",
    "vec.MRELGE=df.dm.holder[df.dm.holder[,\"MRELGE\"]>0,\"MRELGE\"]\n",
    "plots.hist.plc2=list()\n",
    "plots.hist.plc2[[1]]=ggplot()+geom_histogram(aes(x=vec.MOSTYPE8),breaks=seq(1,10))+labs(x =\"MOSTYPE8\")\n",
    "plots.hist.plc2[[2]]=ggplot()+geom_histogram(aes(x=vec.MOSTYPE12),breaks=seq(1,10))+labs(x =\"MOSTYPE12\")\n",
    "plots.hist.plc2[[3]]=ggplot()+geom_histogram(aes(x=vec.MRELGE),breaks=seq(1,10))+labs(x =\"MRELGE\")\n",
    "# Draw the plots\n",
    "options(repr.plot.width=6,repr.plot.height=2)\n",
    "library(gridExtra)\n",
    "do.call(\"grid.arrange\", c(plots.hist.plc2, ncol=3))"
   ]
  },
  {
   "cell_type": "markdown",
   "metadata": {},
   "source": [
    "MOSTYPE8 (Middle class families) has the 3rd largest magnitude on the coefficient as well as having the relatively large number of frequency. In such a view, customers who are categorised as the middle class families could be the first option to approach for marketing."
   ]
  },
  {
   "cell_type": "markdown",
   "metadata": {},
   "source": [
    "# Reference"
   ]
  },
  {
   "cell_type": "markdown",
   "metadata": {},
   "source": [
    "James, G., Witten, Daniela, author, Hastie, Trevor, author, & Tibshirani, Robert, author. (2015). An introduction to statistical learning : With applications in R (Springer texts in statistics).\n",
    "\n",
    "Minitab, LLC. (2019). What are complete separation and quasi-complete separation?  Retrieved from:  https://support.minitab.com/en-us/minitab/18/help-and-how-to/modeling-statistics/regression/supporting-topics/logistic-regression/what-are-complete-separation-and-quasi-complete-separation/"
   ]
  }
 ],
 "metadata": {
  "kernelspec": {
   "display_name": "R",
   "language": "R",
   "name": "ir"
  },
  "language_info": {
   "codemirror_mode": "r",
   "file_extension": ".r",
   "mimetype": "text/x-r-source",
   "name": "R",
   "pygments_lexer": "r",
   "version": "3.6.1"
  }
 },
 "nbformat": 4,
 "nbformat_minor": 4
}
